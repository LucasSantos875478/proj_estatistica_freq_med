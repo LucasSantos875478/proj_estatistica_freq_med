{
 "cells": [
  {
   "cell_type": "markdown",
   "metadata": {
    "colab_type": "text",
    "id": "WvMflodMjQKe"
   },
   "source": [
    "***\n",
    "# <font color=green size=10>CURSO DE ESTATÍSTICA - PARTE 1</font>\n",
    "***\n",
    "\n",
    "## Trabalho de Análise Descritiva de um Conjunto de Dados\n",
    "\n",
    "Utilizando os conhecimentos adquiridos em nosso treinamento realize uma análise descritiva básica de um conjunto de dados retirados da Pesquisa Nacional por Amostra de Domicílios - 2015 do IBGE. \n",
    "\n",
    "Vamos construir histogramas, calcular e avaliar medidas de tendência central, medidas separatrizes e de dispersão dos dados.\n",
    "\n",
    "Siga o roteiro proposto e vá completando as células vazias. Procure pensar em mais informações interessantes que podem ser exploradas em nosso dataset."
   ]
  },
  {
   "cell_type": "markdown",
   "metadata": {
    "colab_type": "text",
    "id": "cVgsZ_E3jQKg"
   },
   "source": [
    "# <font color=green>DATASET DO PROJETO</font>\n",
    "***"
   ]
  },
  {
   "cell_type": "markdown",
   "metadata": {
    "colab_type": "text",
    "id": "iN1gIbaKjQKh"
   },
   "source": [
    "### Pesquisa Nacional por Amostra de Domicílios - 2015\n",
    "\n",
    "A <b>Pesquisa Nacional por Amostra de Domicílios - PNAD</b> investiga anualmente, de forma permanente, características gerais da população, de educação, trabalho, rendimento e habitação e outras, com periodicidade variável, de acordo com as necessidades de informação para o país, como as características sobre migração, fecundidade, nupcialidade, saúde, segurança alimentar, entre outros temas. O levantamento dessas estatísticas constitui, ao longo dos 49 anos de realização da pesquisa, um importante instrumento para formulação, validação e avaliação de políticas orientadas para o desenvolvimento socioeconômico e a melhoria das condições de vida no Brasil."
   ]
  },
  {
   "cell_type": "markdown",
   "metadata": {
    "colab_type": "text",
    "id": "U6V7br1RjQKi"
   },
   "source": [
    "### Fonte dos Dados\n",
    "\n",
    "https://ww2.ibge.gov.br/home/estatistica/populacao/trabalhoerendimento/pnad2015/microdados.shtm"
   ]
  },
  {
   "cell_type": "markdown",
   "metadata": {
    "colab_type": "text",
    "id": "r0Fe_qnzjQKj"
   },
   "source": [
    "### Variáveis utilizadas\n",
    "\n",
    "> ### Renda\n",
    "> ***\n",
    "\n",
    "Rendimento mensal do trabalho principal para pessoas de 10 anos ou mais de idade.\n",
    "\n",
    "> ### Idade\n",
    "> ***\n",
    "\n",
    "Idade do morador na data de referência em anos.\n",
    "\n",
    "> ### Altura (elaboração própria)\n",
    "> ***\n",
    "\n",
    "Altura do morador em metros.\n",
    "\n",
    "> ### UF\n",
    "> ***\n",
    "\n",
    "|Código|Descrição|\n",
    "|---|---|\n",
    "|11|Rondônia|\n",
    "|12|Acre|\n",
    "|13|Amazonas|\n",
    "|14|Roraima|\n",
    "|15|Pará|\n",
    "|16|Amapá|\n",
    "|17|Tocantins|\n",
    "|21|Maranhão|\n",
    "|22|Piauí|\n",
    "|23|Ceará|\n",
    "|24|Rio Grande do Norte|\n",
    "|25|Paraíba|\n",
    "|26|Pernambuco|\n",
    "|27|Alagoas|\n",
    "|28|Sergipe|\n",
    "|29|Bahia|\n",
    "|31|Minas Gerais|\n",
    "|32|Espírito Santo|\n",
    "|33|Rio de Janeiro|\n",
    "|35|São Paulo|\n",
    "|41|Paraná|\n",
    "|42|Santa Catarina|\n",
    "|43|Rio Grande do Sul|\n",
    "|50|Mato Grosso do Sul|\n",
    "|51|Mato Grosso|\n",
    "|52|Goiás|\n",
    "|53|Distrito Federal|\n",
    "\n",
    "> ### Sexo\t\n",
    "> ***\n",
    "\n",
    "|Código|Descrição|\n",
    "|---|---|\n",
    "|0|Masculino|\n",
    "|1|Feminino|\n",
    "\n",
    "> ### Anos de Estudo\n",
    "> ***\n",
    "\n",
    "|Código|Descrição|\n",
    "|---|---|\n",
    "|1|Sem instrução e menos de 1 ano|\n",
    "|2|1 ano|\n",
    "|3|2 anos|\n",
    "|4|3 anos|\n",
    "|5|4 anos|\n",
    "|6|5 anos|\n",
    "|7|6 anos|\n",
    "|8|7 anos|\n",
    "|9|8 anos|\n",
    "|10|9 anos|\n",
    "|11|10 anos|\n",
    "|12|11 anos|\n",
    "|13|12 anos|\n",
    "|14|13 anos|\n",
    "|15|14 anos|\n",
    "|16|15 anos ou mais|\n",
    "|17|Não determinados| \n",
    "||Não aplicável|\n",
    "\n",
    "> ### Cor\n",
    "> ***\n",
    "\n",
    "|Código|Descrição|\n",
    "|---|---|\n",
    "|0|Indígena|\n",
    "|2|Branca|\n",
    "|4|Preta|\n",
    "|6|Amarela|\n",
    "|8|Parda|\n",
    "|9|Sem declaração|"
   ]
  },
  {
   "cell_type": "markdown",
   "metadata": {
    "colab_type": "text",
    "id": "OK1IQH5cX7Gb"
   },
   "source": [
    "#### <font color='red'>Observação</font>\n",
    "***\n",
    "> Os seguintes tratamentos foram realizados nos dados originais:\n",
    "> 1. Foram eliminados os registros onde a <b>Renda</b> era inválida (999 999 999 999);\n",
    "> 2. Foram eliminados os registros onde a <b>Renda</b> era missing;\n",
    "> 3. Foram considerados somente os registros das <b>Pessoas de Referência</b> de cada domicílio (responsável pelo domicílio)."
   ]
  },
  {
   "cell_type": "markdown",
   "metadata": {
    "colab_type": "text",
    "id": "ZIqLOffNTg1Y"
   },
   "source": [
    "***\n",
    "***"
   ]
  },
  {
   "cell_type": "markdown",
   "metadata": {
    "colab_type": "text",
    "id": "8Rw70V6ojQKk"
   },
   "source": [
    "### Utilize a célula abaixo para importar as biblioteca que precisar para executar as tarefas\n",
    "#### <font color='red'>Sugestões: pandas, numpy, seaborn</font>"
   ]
  },
  {
   "cell_type": "code",
   "execution_count": 136,
   "metadata": {
    "colab": {},
    "colab_type": "code",
    "id": "fcTgimHBybMz"
   },
   "outputs": [],
   "source": [
    "import pandas as pd\n",
    "import numpy as np\n",
    "import seaborn as sns\n",
    "import matplotlib.pyplot as plt \n",
    "from scipy import stats"
   ]
  },
  {
   "cell_type": "markdown",
   "metadata": {
    "colab_type": "text",
    "id": "2a-gvBvCULwt"
   },
   "source": [
    "### Importe o dataset e armazene o conteúdo em uma DataFrame"
   ]
  },
  {
   "cell_type": "code",
   "execution_count": 2,
   "metadata": {
    "colab": {},
    "colab_type": "code",
    "id": "ufRZ7TLwjQKo"
   },
   "outputs": [],
   "source": [
    "df_ibge = pd.read_csv('dados.csv')"
   ]
  },
  {
   "cell_type": "markdown",
   "metadata": {
    "colab_type": "text",
    "id": "Oq3CKHCmTg1j"
   },
   "source": [
    "### Visualize o conteúdo do DataFrame"
   ]
  },
  {
   "cell_type": "code",
   "execution_count": 3,
   "metadata": {
    "colab": {},
    "colab_type": "code",
    "id": "GsC_WhLFjQKq",
    "scrolled": true
   },
   "outputs": [
    {
     "data": {
      "text/html": [
       "<div>\n",
       "<style scoped>\n",
       "    .dataframe tbody tr th:only-of-type {\n",
       "        vertical-align: middle;\n",
       "    }\n",
       "\n",
       "    .dataframe tbody tr th {\n",
       "        vertical-align: top;\n",
       "    }\n",
       "\n",
       "    .dataframe thead th {\n",
       "        text-align: right;\n",
       "    }\n",
       "</style>\n",
       "<table border=\"1\" class=\"dataframe\">\n",
       "  <thead>\n",
       "    <tr style=\"text-align: right;\">\n",
       "      <th></th>\n",
       "      <th>UF</th>\n",
       "      <th>Sexo</th>\n",
       "      <th>Idade</th>\n",
       "      <th>Cor</th>\n",
       "      <th>Anos de Estudo</th>\n",
       "      <th>Renda</th>\n",
       "      <th>Altura</th>\n",
       "    </tr>\n",
       "  </thead>\n",
       "  <tbody>\n",
       "    <tr>\n",
       "      <th>0</th>\n",
       "      <td>11</td>\n",
       "      <td>0</td>\n",
       "      <td>23</td>\n",
       "      <td>8</td>\n",
       "      <td>12</td>\n",
       "      <td>800</td>\n",
       "      <td>1.603808</td>\n",
       "    </tr>\n",
       "    <tr>\n",
       "      <th>1</th>\n",
       "      <td>11</td>\n",
       "      <td>1</td>\n",
       "      <td>23</td>\n",
       "      <td>2</td>\n",
       "      <td>12</td>\n",
       "      <td>1150</td>\n",
       "      <td>1.739790</td>\n",
       "    </tr>\n",
       "    <tr>\n",
       "      <th>2</th>\n",
       "      <td>11</td>\n",
       "      <td>1</td>\n",
       "      <td>35</td>\n",
       "      <td>8</td>\n",
       "      <td>15</td>\n",
       "      <td>880</td>\n",
       "      <td>1.760444</td>\n",
       "    </tr>\n",
       "    <tr>\n",
       "      <th>3</th>\n",
       "      <td>11</td>\n",
       "      <td>0</td>\n",
       "      <td>46</td>\n",
       "      <td>2</td>\n",
       "      <td>6</td>\n",
       "      <td>3500</td>\n",
       "      <td>1.783158</td>\n",
       "    </tr>\n",
       "    <tr>\n",
       "      <th>4</th>\n",
       "      <td>11</td>\n",
       "      <td>1</td>\n",
       "      <td>47</td>\n",
       "      <td>8</td>\n",
       "      <td>9</td>\n",
       "      <td>150</td>\n",
       "      <td>1.690631</td>\n",
       "    </tr>\n",
       "  </tbody>\n",
       "</table>\n",
       "</div>"
      ],
      "text/plain": [
       "   UF  Sexo  Idade  Cor  Anos de Estudo  Renda    Altura\n",
       "0  11     0     23    8              12    800  1.603808\n",
       "1  11     1     23    2              12   1150  1.739790\n",
       "2  11     1     35    8              15    880  1.760444\n",
       "3  11     0     46    2               6   3500  1.783158\n",
       "4  11     1     47    8               9    150  1.690631"
      ]
     },
     "metadata": {},
     "output_type": "display_data"
    }
   ],
   "source": [
    "display(df_ibge.head())"
   ]
  },
  {
   "cell_type": "markdown",
   "metadata": {
    "colab_type": "text",
    "id": "HDrFJQitTg1n"
   },
   "source": [
    "### Para avaliarmos o comportamento da variável RENDA vamos construir uma tabela de frequências considerando as seguintes classes em salários mínimos (SM)\n",
    "#### <font color='blue'>Descreva os pontos mais relevantes que você observa na tabela e no gráfico.</font>\n",
    "\n",
    "Classes de renda:\n",
    "\n",
    "<b>A</b> ► Acima de 25 SM\n",
    "\n",
    "<b>B</b> ► De 15 a 25 SM\n",
    "\n",
    "<b>C</b> ► De 5 a 15 SM\n",
    "\n",
    "<b>D</b> ► De 2 a 5 SM\n",
    "\n",
    "<b>E</b> ► Até 2 SM\n",
    "\n",
    "Para construir as classes de renda considere que o salário mínimo na época da pesquisa era de <b>R$ 788,00</b>.\n",
    "\n",
    "#### Siga os passos abaixo:"
   ]
  },
  {
   "cell_type": "markdown",
   "metadata": {
    "colab_type": "text",
    "id": "zJBkeGxiTg1o"
   },
   "source": [
    "### 1º Definir os intevalos das classes em reais (R$)"
   ]
  },
  {
   "cell_type": "code",
   "execution_count": 6,
   "metadata": {
    "colab": {},
    "colab_type": "code",
    "id": "-Ct3QUj6Tg1p"
   },
   "outputs": [
    {
     "name": "stdout",
     "output_type": "stream",
     "text": [
      "[0, 1576.0, 3940.0, 11820.0, 19700.0, 200000]\n"
     ]
    }
   ],
   "source": [
    "# vou descobrir o maior e o menor valor, para colocar na lista\n",
    "menor_valor = df_ibge.Renda.min()\n",
    "maior_valor = df_ibge.Renda.max()\n",
    "\n",
    "# pensando que no futuro o SM poderia mudar, vou colocá-lo em um variável para caso queria mudar fique mais fácil\n",
    "salario_minimo = 788.00\n",
    "\n",
    "intervalos = [menor_valor, 2 * salario_minimo, 5 * salario_minimo, 15 * salario_minimo, 25 * salario_minimo, \n",
    "              maior_valor]\n",
    "print(intervalos)"
   ]
  },
  {
   "cell_type": "markdown",
   "metadata": {
    "colab_type": "text",
    "id": "dZ7X37CGTg1t"
   },
   "source": [
    "### 2º Definir os labels das classes"
   ]
  },
  {
   "cell_type": "code",
   "execution_count": 7,
   "metadata": {
    "colab": {},
    "colab_type": "code",
    "id": "4UFOzitTTg1u"
   },
   "outputs": [],
   "source": [
    "# como nos intervalor comecei da menor renda até a maior vou criar as labels assim também\n",
    "labels = ['E', 'D', 'C', 'B', 'A']"
   ]
  },
  {
   "cell_type": "markdown",
   "metadata": {
    "colab_type": "text",
    "id": "umFq1o-UTg1w"
   },
   "source": [
    "### 3º Construir a coluna de frequências"
   ]
  },
  {
   "cell_type": "code",
   "execution_count": 43,
   "metadata": {
    "colab": {},
    "colab_type": "code",
    "id": "uSztBoqOTg1x"
   },
   "outputs": [
    {
     "data": {
      "text/plain": [
       "Renda\n",
       "E    49755\n",
       "D    18602\n",
       "C     7241\n",
       "B      822\n",
       "A      420\n",
       "Name: count, dtype: int64"
      ]
     },
     "metadata": {},
     "output_type": "display_data"
    }
   ],
   "source": [
    "freq_salario = df_ibge.value_counts(\n",
    "        pd.cut(x = df_ibge.Renda,\n",
    "               bins = intervalos,\n",
    "               labels = labels,\n",
    "              include_lowest = True)\n",
    ")\n",
    "\n",
    "display(freq_salario)"
   ]
  },
  {
   "cell_type": "markdown",
   "metadata": {
    "colab_type": "text",
    "id": "2k6nGUZKTg11"
   },
   "source": [
    "### 4º Construir a coluna de percentuais"
   ]
  },
  {
   "cell_type": "code",
   "execution_count": 17,
   "metadata": {
    "colab": {},
    "colab_type": "code",
    "id": "rdwUABsnTg12"
   },
   "outputs": [
    {
     "data": {
      "text/plain": [
       "Renda\n",
       "E    64.751432\n",
       "D    24.208745\n",
       "C     9.423477\n",
       "B     1.069755\n",
       "A     0.546590\n",
       "Name: proportion, dtype: float64"
      ]
     },
     "metadata": {},
     "output_type": "display_data"
    }
   ],
   "source": [
    "perc_salario = df_ibge.value_counts(\n",
    "        pd.cut(x = df_ibge.Renda,\n",
    "               bins = intervalos,\n",
    "               labels = labels,\n",
    "              include_lowest = True\n",
    "              ),\n",
    "    normalize = True\n",
    ") * 100\n",
    "\n",
    "display(perc_salario)"
   ]
  },
  {
   "cell_type": "markdown",
   "metadata": {
    "colab_type": "text",
    "id": "9dvk6-9_Tg16"
   },
   "source": [
    "### 5º Juntar as colunas de frequência e percentuais e ordenar as linhas de acordo com os labels das classes"
   ]
  },
  {
   "cell_type": "code",
   "execution_count": 174,
   "metadata": {
    "colab": {},
    "colab_type": "code",
    "id": "tO_bcMmgTg16"
   },
   "outputs": [
    {
     "data": {
      "text/html": [
       "<div>\n",
       "<style scoped>\n",
       "    .dataframe tbody tr th:only-of-type {\n",
       "        vertical-align: middle;\n",
       "    }\n",
       "\n",
       "    .dataframe tbody tr th {\n",
       "        vertical-align: top;\n",
       "    }\n",
       "\n",
       "    .dataframe thead th {\n",
       "        text-align: right;\n",
       "    }\n",
       "</style>\n",
       "<table border=\"1\" class=\"dataframe\">\n",
       "  <thead>\n",
       "    <tr style=\"text-align: right;\">\n",
       "      <th></th>\n",
       "      <th>Frequência</th>\n",
       "      <th>Porcentagem %</th>\n",
       "    </tr>\n",
       "    <tr>\n",
       "      <th>Renda</th>\n",
       "      <th></th>\n",
       "      <th></th>\n",
       "    </tr>\n",
       "  </thead>\n",
       "  <tbody>\n",
       "    <tr>\n",
       "      <th>A</th>\n",
       "      <td>420</td>\n",
       "      <td>0.546590</td>\n",
       "    </tr>\n",
       "    <tr>\n",
       "      <th>B</th>\n",
       "      <td>822</td>\n",
       "      <td>1.069755</td>\n",
       "    </tr>\n",
       "    <tr>\n",
       "      <th>C</th>\n",
       "      <td>7241</td>\n",
       "      <td>9.423477</td>\n",
       "    </tr>\n",
       "    <tr>\n",
       "      <th>D</th>\n",
       "      <td>18602</td>\n",
       "      <td>24.208745</td>\n",
       "    </tr>\n",
       "    <tr>\n",
       "      <th>E</th>\n",
       "      <td>49755</td>\n",
       "      <td>64.751432</td>\n",
       "    </tr>\n",
       "  </tbody>\n",
       "</table>\n",
       "</div>"
      ],
      "text/plain": [
       "       Frequência  Porcentagem %\n",
       "Renda                           \n",
       "A             420       0.546590\n",
       "B             822       1.069755\n",
       "C            7241       9.423477\n",
       "D           18602      24.208745\n",
       "E           49755      64.751432"
      ]
     },
     "metadata": {},
     "output_type": "display_data"
    }
   ],
   "source": [
    "df_freq_perc_salario = pd.DataFrame({'Frequência': freq_salario, 'Porcentagem %': perc_salario})\n",
    "df_freq_perc_salario.sort_index(ascending = False, inplace = True)\n",
    "display(df_freq_perc_salario)"
   ]
  },
  {
   "cell_type": "markdown",
   "metadata": {
    "colab_type": "text",
    "id": "DOYtXuSbTg18"
   },
   "source": [
    "### Construa um gráfico de barras para visualizar as informações da tabela de frequências acima"
   ]
  },
  {
   "cell_type": "code",
   "execution_count": 22,
   "metadata": {
    "colab": {},
    "colab_type": "code",
    "id": "e4mDPKf1Tg18"
   },
   "outputs": [
    {
     "data": {
      "image/png": "[encoded data removed]",
      "text/plain": [
       "<Figure size 640x480 with 1 Axes>"
      ]
     },
     "metadata": {},
     "output_type": "display_data"
    }
   ],
   "source": [
    "plt.bar(x = labels, height=freq_salario)\n",
    "plt.show()"
   ]
  },
  {
   "cell_type": "markdown",
   "metadata": {},
   "source": [
    "### Analise a classe em relação a cor de pele"
   ]
  },
  {
   "cell_type": "code",
   "execution_count": 41,
   "metadata": {},
   "outputs": [
    {
     "data": {
      "text/html": [
       "<div>\n",
       "<style scoped>\n",
       "    .dataframe tbody tr th:only-of-type {\n",
       "        vertical-align: middle;\n",
       "    }\n",
       "\n",
       "    .dataframe tbody tr th {\n",
       "        vertical-align: top;\n",
       "    }\n",
       "\n",
       "    .dataframe thead th {\n",
       "        text-align: right;\n",
       "    }\n",
       "</style>\n",
       "<table border=\"1\" class=\"dataframe\">\n",
       "  <thead>\n",
       "    <tr style=\"text-align: right;\">\n",
       "      <th></th>\n",
       "      <th>UF</th>\n",
       "      <th>Sexo</th>\n",
       "      <th>Idade</th>\n",
       "      <th>Cor</th>\n",
       "      <th>Anos de Estudo</th>\n",
       "      <th>Renda</th>\n",
       "      <th>Altura</th>\n",
       "      <th>Classe</th>\n",
       "    </tr>\n",
       "  </thead>\n",
       "  <tbody>\n",
       "    <tr>\n",
       "      <th>0</th>\n",
       "      <td>11</td>\n",
       "      <td>0</td>\n",
       "      <td>23</td>\n",
       "      <td>8</td>\n",
       "      <td>12</td>\n",
       "      <td>800</td>\n",
       "      <td>1.603808</td>\n",
       "      <td>E</td>\n",
       "    </tr>\n",
       "    <tr>\n",
       "      <th>1</th>\n",
       "      <td>11</td>\n",
       "      <td>1</td>\n",
       "      <td>23</td>\n",
       "      <td>2</td>\n",
       "      <td>12</td>\n",
       "      <td>1150</td>\n",
       "      <td>1.739790</td>\n",
       "      <td>E</td>\n",
       "    </tr>\n",
       "    <tr>\n",
       "      <th>2</th>\n",
       "      <td>11</td>\n",
       "      <td>1</td>\n",
       "      <td>35</td>\n",
       "      <td>8</td>\n",
       "      <td>15</td>\n",
       "      <td>880</td>\n",
       "      <td>1.760444</td>\n",
       "      <td>E</td>\n",
       "    </tr>\n",
       "    <tr>\n",
       "      <th>3</th>\n",
       "      <td>11</td>\n",
       "      <td>0</td>\n",
       "      <td>46</td>\n",
       "      <td>2</td>\n",
       "      <td>6</td>\n",
       "      <td>3500</td>\n",
       "      <td>1.783158</td>\n",
       "      <td>D</td>\n",
       "    </tr>\n",
       "    <tr>\n",
       "      <th>4</th>\n",
       "      <td>11</td>\n",
       "      <td>1</td>\n",
       "      <td>47</td>\n",
       "      <td>8</td>\n",
       "      <td>9</td>\n",
       "      <td>150</td>\n",
       "      <td>1.690631</td>\n",
       "      <td>E</td>\n",
       "    </tr>\n",
       "    <tr>\n",
       "      <th>...</th>\n",
       "      <td>...</td>\n",
       "      <td>...</td>\n",
       "      <td>...</td>\n",
       "      <td>...</td>\n",
       "      <td>...</td>\n",
       "      <td>...</td>\n",
       "      <td>...</td>\n",
       "      <td>...</td>\n",
       "    </tr>\n",
       "    <tr>\n",
       "      <th>76835</th>\n",
       "      <td>53</td>\n",
       "      <td>1</td>\n",
       "      <td>46</td>\n",
       "      <td>2</td>\n",
       "      <td>11</td>\n",
       "      <td>812</td>\n",
       "      <td>1.687030</td>\n",
       "      <td>E</td>\n",
       "    </tr>\n",
       "    <tr>\n",
       "      <th>76836</th>\n",
       "      <td>53</td>\n",
       "      <td>0</td>\n",
       "      <td>30</td>\n",
       "      <td>4</td>\n",
       "      <td>7</td>\n",
       "      <td>1500</td>\n",
       "      <td>1.792934</td>\n",
       "      <td>E</td>\n",
       "    </tr>\n",
       "    <tr>\n",
       "      <th>76837</th>\n",
       "      <td>53</td>\n",
       "      <td>0</td>\n",
       "      <td>32</td>\n",
       "      <td>8</td>\n",
       "      <td>12</td>\n",
       "      <td>1300</td>\n",
       "      <td>1.830587</td>\n",
       "      <td>E</td>\n",
       "    </tr>\n",
       "    <tr>\n",
       "      <th>76838</th>\n",
       "      <td>53</td>\n",
       "      <td>0</td>\n",
       "      <td>57</td>\n",
       "      <td>8</td>\n",
       "      <td>4</td>\n",
       "      <td>1500</td>\n",
       "      <td>1.726344</td>\n",
       "      <td>E</td>\n",
       "    </tr>\n",
       "    <tr>\n",
       "      <th>76839</th>\n",
       "      <td>53</td>\n",
       "      <td>0</td>\n",
       "      <td>38</td>\n",
       "      <td>8</td>\n",
       "      <td>4</td>\n",
       "      <td>900</td>\n",
       "      <td>1.658305</td>\n",
       "      <td>E</td>\n",
       "    </tr>\n",
       "  </tbody>\n",
       "</table>\n",
       "<p>76840 rows × 8 columns</p>\n",
       "</div>"
      ],
      "text/plain": [
       "       UF  Sexo  Idade  Cor  Anos de Estudo  Renda    Altura Classe\n",
       "0      11     0     23    8              12    800  1.603808      E\n",
       "1      11     1     23    2              12   1150  1.739790      E\n",
       "2      11     1     35    8              15    880  1.760444      E\n",
       "3      11     0     46    2               6   3500  1.783158      D\n",
       "4      11     1     47    8               9    150  1.690631      E\n",
       "...    ..   ...    ...  ...             ...    ...       ...    ...\n",
       "76835  53     1     46    2              11    812  1.687030      E\n",
       "76836  53     0     30    4               7   1500  1.792934      E\n",
       "76837  53     0     32    8              12   1300  1.830587      E\n",
       "76838  53     0     57    8               4   1500  1.726344      E\n",
       "76839  53     0     38    8               4    900  1.658305      E\n",
       "\n",
       "[76840 rows x 8 columns]"
      ]
     },
     "metadata": {},
     "output_type": "display_data"
    }
   ],
   "source": [
    "classe = pd.cut(x = df_ibge.Renda,\n",
    "               bins = intervalos,\n",
    "               labels = labels,\n",
    "              include_lowest = True\n",
    "              )\n",
    "\n",
    "df_ibge.loc[:, 'Classe'] = classe\n",
    "\n",
    "display(df_ibge)"
   ]
  },
  {
   "cell_type": "code",
   "execution_count": 55,
   "metadata": {},
   "outputs": [
    {
     "data": {
      "text/html": [
       "<div>\n",
       "<style scoped>\n",
       "    .dataframe tbody tr th:only-of-type {\n",
       "        vertical-align: middle;\n",
       "    }\n",
       "\n",
       "    .dataframe tbody tr th {\n",
       "        vertical-align: top;\n",
       "    }\n",
       "\n",
       "    .dataframe thead th {\n",
       "        text-align: right;\n",
       "    }\n",
       "</style>\n",
       "<table border=\"1\" class=\"dataframe\">\n",
       "  <thead>\n",
       "    <tr style=\"text-align: right;\">\n",
       "      <th>Cor</th>\n",
       "      <th>Indígena</th>\n",
       "      <th>Branca</th>\n",
       "      <th>Preta</th>\n",
       "      <th>Amarela</th>\n",
       "      <th>Parda</th>\n",
       "    </tr>\n",
       "    <tr>\n",
       "      <th>Classe</th>\n",
       "      <th></th>\n",
       "      <th></th>\n",
       "      <th></th>\n",
       "      <th></th>\n",
       "      <th></th>\n",
       "    </tr>\n",
       "  </thead>\n",
       "  <tbody>\n",
       "    <tr>\n",
       "      <th>E</th>\n",
       "      <td>287</td>\n",
       "      <td>16676</td>\n",
       "      <td>6266</td>\n",
       "      <td>128</td>\n",
       "      <td>26398</td>\n",
       "    </tr>\n",
       "    <tr>\n",
       "      <th>D</th>\n",
       "      <td>52</td>\n",
       "      <td>9562</td>\n",
       "      <td>1680</td>\n",
       "      <td>107</td>\n",
       "      <td>7201</td>\n",
       "    </tr>\n",
       "    <tr>\n",
       "      <th>C</th>\n",
       "      <td>16</td>\n",
       "      <td>4638</td>\n",
       "      <td>407</td>\n",
       "      <td>90</td>\n",
       "      <td>2090</td>\n",
       "    </tr>\n",
       "    <tr>\n",
       "      <th>B</th>\n",
       "      <td>1</td>\n",
       "      <td>610</td>\n",
       "      <td>27</td>\n",
       "      <td>18</td>\n",
       "      <td>166</td>\n",
       "    </tr>\n",
       "    <tr>\n",
       "      <th>A</th>\n",
       "      <td>1</td>\n",
       "      <td>329</td>\n",
       "      <td>11</td>\n",
       "      <td>9</td>\n",
       "      <td>70</td>\n",
       "    </tr>\n",
       "  </tbody>\n",
       "</table>\n",
       "</div>"
      ],
      "text/plain": [
       "Cor     Indígena  Branca  Preta  Amarela  Parda\n",
       "Classe                                         \n",
       "E            287   16676   6266      128  26398\n",
       "D             52    9562   1680      107   7201\n",
       "C             16    4638    407       90   2090\n",
       "B              1     610     27       18    166\n",
       "A              1     329     11        9     70"
      ]
     },
     "metadata": {},
     "output_type": "display_data"
    }
   ],
   "source": [
    "cor_classe = pd.crosstab(\n",
    "        index = df_ibge.Classe,\n",
    "        columns = df_ibge.Cor\n",
    ")\n",
    "cor_classe.rename(cor, axis=1, inplace = True)\n",
    "\n",
    "display(cor_classe)"
   ]
  },
  {
   "cell_type": "code",
   "execution_count": 57,
   "metadata": {},
   "outputs": [
    {
     "data": {
      "text/html": [
       "<div>\n",
       "<style scoped>\n",
       "    .dataframe tbody tr th:only-of-type {\n",
       "        vertical-align: middle;\n",
       "    }\n",
       "\n",
       "    .dataframe tbody tr th {\n",
       "        vertical-align: top;\n",
       "    }\n",
       "\n",
       "    .dataframe thead th {\n",
       "        text-align: right;\n",
       "    }\n",
       "</style>\n",
       "<table border=\"1\" class=\"dataframe\">\n",
       "  <thead>\n",
       "    <tr style=\"text-align: right;\">\n",
       "      <th>Cor</th>\n",
       "      <th>Indígena</th>\n",
       "      <th>Branca</th>\n",
       "      <th>Preta</th>\n",
       "      <th>Amarela</th>\n",
       "      <th>Parda</th>\n",
       "    </tr>\n",
       "    <tr>\n",
       "      <th>Anos de Estudo</th>\n",
       "      <th></th>\n",
       "      <th></th>\n",
       "      <th></th>\n",
       "      <th></th>\n",
       "      <th></th>\n",
       "    </tr>\n",
       "  </thead>\n",
       "  <tbody>\n",
       "    <tr>\n",
       "      <th>Sem instrução e menos de 1 ano</th>\n",
       "      <td>49</td>\n",
       "      <td>1420</td>\n",
       "      <td>801</td>\n",
       "      <td>9</td>\n",
       "      <td>3570</td>\n",
       "    </tr>\n",
       "    <tr>\n",
       "      <th>1 ano</th>\n",
       "      <td>10</td>\n",
       "      <td>364</td>\n",
       "      <td>174</td>\n",
       "      <td>2</td>\n",
       "      <td>838</td>\n",
       "    </tr>\n",
       "    <tr>\n",
       "      <th>2 anos</th>\n",
       "      <td>12</td>\n",
       "      <td>617</td>\n",
       "      <td>261</td>\n",
       "      <td>1</td>\n",
       "      <td>1210</td>\n",
       "    </tr>\n",
       "    <tr>\n",
       "      <th>3 anos</th>\n",
       "      <td>17</td>\n",
       "      <td>929</td>\n",
       "      <td>361</td>\n",
       "      <td>3</td>\n",
       "      <td>1581</td>\n",
       "    </tr>\n",
       "    <tr>\n",
       "      <th>4 anos</th>\n",
       "      <td>22</td>\n",
       "      <td>2683</td>\n",
       "      <td>694</td>\n",
       "      <td>21</td>\n",
       "      <td>3309</td>\n",
       "    </tr>\n",
       "    <tr>\n",
       "      <th>5 anos</th>\n",
       "      <td>23</td>\n",
       "      <td>1600</td>\n",
       "      <td>523</td>\n",
       "      <td>7</td>\n",
       "      <td>2346</td>\n",
       "    </tr>\n",
       "    <tr>\n",
       "      <th>6 anos</th>\n",
       "      <td>12</td>\n",
       "      <td>860</td>\n",
       "      <td>295</td>\n",
       "      <td>6</td>\n",
       "      <td>1272</td>\n",
       "    </tr>\n",
       "    <tr>\n",
       "      <th>7 anos</th>\n",
       "      <td>16</td>\n",
       "      <td>940</td>\n",
       "      <td>315</td>\n",
       "      <td>1</td>\n",
       "      <td>1417</td>\n",
       "    </tr>\n",
       "    <tr>\n",
       "      <th>8 anos</th>\n",
       "      <td>45</td>\n",
       "      <td>3102</td>\n",
       "      <td>900</td>\n",
       "      <td>26</td>\n",
       "      <td>3907</td>\n",
       "    </tr>\n",
       "    <tr>\n",
       "      <th>9 anos</th>\n",
       "      <td>16</td>\n",
       "      <td>558</td>\n",
       "      <td>237</td>\n",
       "      <td>2</td>\n",
       "      <td>1027</td>\n",
       "    </tr>\n",
       "    <tr>\n",
       "      <th>10 anos</th>\n",
       "      <td>12</td>\n",
       "      <td>779</td>\n",
       "      <td>276</td>\n",
       "      <td>8</td>\n",
       "      <td>1043</td>\n",
       "    </tr>\n",
       "    <tr>\n",
       "      <th>11 anos</th>\n",
       "      <td>82</td>\n",
       "      <td>8838</td>\n",
       "      <td>2423</td>\n",
       "      <td>88</td>\n",
       "      <td>9417</td>\n",
       "    </tr>\n",
       "    <tr>\n",
       "      <th>12 anos</th>\n",
       "      <td>7</td>\n",
       "      <td>869</td>\n",
       "      <td>189</td>\n",
       "      <td>9</td>\n",
       "      <td>762</td>\n",
       "    </tr>\n",
       "    <tr>\n",
       "      <th>13 anos</th>\n",
       "      <td>5</td>\n",
       "      <td>663</td>\n",
       "      <td>114</td>\n",
       "      <td>7</td>\n",
       "      <td>464</td>\n",
       "    </tr>\n",
       "    <tr>\n",
       "      <th>14 anos</th>\n",
       "      <td>6</td>\n",
       "      <td>773</td>\n",
       "      <td>116</td>\n",
       "      <td>10</td>\n",
       "      <td>483</td>\n",
       "    </tr>\n",
       "    <tr>\n",
       "      <th>15 anos ou mais</th>\n",
       "      <td>20</td>\n",
       "      <td>6758</td>\n",
       "      <td>691</td>\n",
       "      <td>152</td>\n",
       "      <td>3174</td>\n",
       "    </tr>\n",
       "    <tr>\n",
       "      <th>Não determinados</th>\n",
       "      <td>3</td>\n",
       "      <td>62</td>\n",
       "      <td>21</td>\n",
       "      <td>0</td>\n",
       "      <td>105</td>\n",
       "    </tr>\n",
       "  </tbody>\n",
       "</table>\n",
       "</div>"
      ],
      "text/plain": [
       "Cor                             Indígena  Branca  Preta  Amarela  Parda\n",
       "Anos de Estudo                                                         \n",
       "Sem instrução e menos de 1 ano        49    1420    801        9   3570\n",
       "1 ano                                 10     364    174        2    838\n",
       "2 anos                                12     617    261        1   1210\n",
       "3 anos                                17     929    361        3   1581\n",
       "4 anos                                22    2683    694       21   3309\n",
       "5 anos                                23    1600    523        7   2346\n",
       "6 anos                                12     860    295        6   1272\n",
       "7 anos                                16     940    315        1   1417\n",
       "8 anos                                45    3102    900       26   3907\n",
       "9 anos                                16     558    237        2   1027\n",
       "10 anos                               12     779    276        8   1043\n",
       "11 anos                               82    8838   2423       88   9417\n",
       "12 anos                                7     869    189        9    762\n",
       "13 anos                                5     663    114        7    464\n",
       "14 anos                                6     773    116       10    483\n",
       "15 anos ou mais                       20    6758    691      152   3174\n",
       "Não determinados                       3      62     21        0    105"
      ]
     },
     "metadata": {},
     "output_type": "display_data"
    }
   ],
   "source": [
    "anos_estudo_classe = pd.crosstab(\n",
    "        index = df_ibge['Anos de Estudo'],\n",
    "        columns = df_ibge.Cor\n",
    ")\n",
    "anos_estudo_classe.rename(anos_de_estudo, axis=0, inplace = True)\n",
    "anos_estudo_classe.rename(cor, axis=1, inplace = True)\n",
    "\n",
    "display(anos_estudo_classe)"
   ]
  },
  {
   "cell_type": "markdown",
   "metadata": {
    "colab_type": "text",
    "id": "9ppt5JevTg1-"
   },
   "source": [
    "> ### Conclusões\n",
    "\n",
    "1- Percebemos uma enorme desigualdade social, onde mais de 60% das pessoas ganham até 2 salários mínimos.\n",
    "\n",
    "2- Percebemos que temos muito dinheiro nas mãos de poucas pessoas, isso fica evidente notando que a classe B e A juntas não passam de 1300 pessoas, isso representa 1.5% da população (chefe de família) em 2015.\n",
    "\n",
    "3- Agora se analisarmos as classes E e D temos mais ou menos 68300 pessoas, cerca de 89% da população.\n",
    "\n",
    "4- Percebemos uma predominância das pessoas brancas quando a classe vai aumentando, notamos que os negros, amarelos e indígenas sempre estão em menor número, mostrando assim que possivelmente além de uma desigualdade de classe também temos uma desigualdade racial no país.\n",
    "\n",
    "5- Sabemos que técnicamente quando a pessoa estuda mais ela tende a ter um salário maior, notamos que as pessoas brancas são as que mais tem anos de estudo (e também são as pessoas mais predominantes em classes mais altas), levando em conta o contexto conhecido do Brasil sabemos que os brancos tem mais oportunidades de estudo (muitas vezes por privilégio) e as outras raças não tem tanta oportunidade, muitas vezes por falta de renda, racismo ou tiveram que largar os estudos para começar a ajudar na renda da casa."
   ]
  },
  {
   "cell_type": "markdown",
   "metadata": {
    "colab_type": "text",
    "id": "yt-gFm93Tg1-"
   },
   "source": [
    "### Crie um histograma para as variáveis QUANTITATIVAS de nosso dataset\n",
    "#### <font color='blue'>Descreva os pontos mais relevantes que você observa nos gráficos (assimetrias e seus tipos, possíveis causas para determinados comportamentos etc.)</font>"
   ]
  },
  {
   "cell_type": "code",
   "execution_count": 60,
   "metadata": {
    "colab": {},
    "colab_type": "code",
    "id": "DYjq9xasTg1_"
   },
   "outputs": [
    {
     "data": {
      "text/plain": [
       "<Axes: xlabel='Idade', ylabel='Count'>"
      ]
     },
     "execution_count": 60,
     "metadata": {},
     "output_type": "execute_result"
    },
    {
     "data": {
      "image/png": "[encoded data removed]",
      "text/plain": [
       "<Figure size 640x480 with 1 Axes>"
      ]
     },
     "metadata": {},
     "output_type": "display_data"
    }
   ],
   "source": [
    "# idade, renda, altura\n",
    "sns.histplot(df_ibge.Idade, kde = True)"
   ]
  },
  {
   "cell_type": "code",
   "execution_count": 79,
   "metadata": {
    "colab": {},
    "colab_type": "code",
    "id": "uh2CWIG8Tg2A"
   },
   "outputs": [
    {
     "data": {
      "text/plain": [
       "<Axes: xlabel='Altura', ylabel='Count'>"
      ]
     },
     "execution_count": 79,
     "metadata": {},
     "output_type": "execute_result"
    },
    {
     "data": {
      "image/png": "[encoded data removed]",
      "text/plain": [
       "<Figure size 640x480 with 1 Axes>"
      ]
     },
     "metadata": {},
     "output_type": "display_data"
    }
   ],
   "source": [
    "sns.histplot(df_ibge.Altura, kde = True)"
   ]
  },
  {
   "cell_type": "code",
   "execution_count": 86,
   "metadata": {
    "colab": {},
    "colab_type": "code",
    "id": "s55WPk1aTg2C"
   },
   "outputs": [
    {
     "data": {
      "text/plain": [
       "<Axes: xlabel='Renda', ylabel='Count'>"
      ]
     },
     "execution_count": 86,
     "metadata": {},
     "output_type": "execute_result"
    },
    {
     "data": {
      "image/png": "[encoded data removed]",
      "text/plain": [
       "<Figure size 640x480 with 1 Axes>"
      ]
     },
     "metadata": {},
     "output_type": "display_data"
    }
   ],
   "source": [
    "sns.histplot(df_ibge.query('Renda < 20000').Renda, kde = True)"
   ]
  },
  {
   "cell_type": "markdown",
   "metadata": {
    "colab_type": "text",
    "id": "w45i-qJ1Tg2E"
   },
   "source": [
    "> ### Conclusões\n",
    "\n",
    "1- Notamos que a altura é muito simétrica, visto que ela foi criada para ser desse jeito, já que ela não existia originalmente.\n",
    "\n",
    "2- Percebemos que há uma concentração de pessoas na faixa de 40 anos.\n",
    "\n",
    "3- Percemos novamente que a renda se concentra muito a esquerda do gráfico, provando assim que existe uma desigualdade salárial no país, onde a renda mínima ou perto da mínima é onde tem mais frequência. "
   ]
  },
  {
   "cell_type": "markdown",
   "metadata": {
    "colab_type": "text",
    "id": "vvtzLOUKTg2H"
   },
   "source": [
    "### Construa uma tabela de frequências e uma com os percentuais do cruzando das variáveis SEXO e COR\n",
    "#### <font color='blue'>Avalie o resultado da tabela e escreva suas principais conclusões</font>\n",
    "#### <font color='red'>Utilize os dicionários abaixo para renomear as linha e colunas das tabelas de frequências e dos gráficos em nosso projeto</font>"
   ]
  },
  {
   "cell_type": "code",
   "execution_count": 47,
   "metadata": {
    "colab": {},
    "colab_type": "code",
    "id": "sChJRo_qTg2I"
   },
   "outputs": [],
   "source": [
    "sexo = {\n",
    "    0: 'Masculino', \n",
    "    1: 'Feminino'from scipy import stats\n",
    "\n",
    "\n",
    "}\n",
    "cor = {\n",
    "    0: 'Indígena', \n",
    "    2: 'Branca', \n",
    "    4: 'Preta', \n",
    "    6: 'Amarela', \n",
    "    8: 'Parda', \n",
    "    9: 'Sem declaração'\n",
    "}\n",
    "anos_de_estudo = {\n",
    "    1: 'Sem instrução e menos de 1 ano', \n",
    "    2: '1 ano', \n",
    "    3: '2 anos', \n",
    "    4: '3 anos', \n",
    "    5: '4 anos', \n",
    "    6: '5 anos', \n",
    "    7: '6 anos', \n",
    "    8: '7 anos', \n",
    "    9: '8 anos', \n",
    "    10: '9 anos', \n",
    "    11: '10 anos', \n",
    "    12: '11 anos', \n",
    "    13: '12 anos', \n",
    "    14: '13 anos', \n",
    "    15: '14 anos', \n",
    "    16: '15 anos ou mais', \n",
    "    17: 'Não determinados'\n",
    "}\n",
    "uf = {\n",
    "    11: 'Rondônia', \n",
    "    12: 'Acre', \n",
    "    13: 'Amazonas', \n",
    "    14: 'Roraima', \n",
    "    15: 'Pará', \n",
    "    16: 'Amapá', \n",
    "    17: 'Tocantins', \n",
    "    21: 'Maranhão', \n",
    "    22: 'Piauí', \n",
    "    23: 'Ceará', \n",
    "    24: 'Rio Grande do Norte', \n",
    "    25: 'Paraíba', \n",
    "    26: 'Pernambuco', \n",
    "    27: 'Alagoas', \n",
    "    28: 'Sergipe', \n",
    "    29: 'Bahia', \n",
    "    31: 'Minas Gerais', \n",
    "    32: 'Espírito Santo', \n",
    "    33: 'Rio de Janeiro', \n",
    "    35: 'São Paulo', \n",
    "    41: 'Paraná', \n",
    "    42: 'Santa Catarina', \n",
    "    43: 'Rio Grande do Sul', \n",
    "    50: 'Mato Grosso do Sul', \n",
    "    51: 'Mato Grosso', \n",
    "    52: 'Goiás', \n",
    "    53: 'Distrito Federal'\n",
    "}"
   ]
  },
  {
   "cell_type": "code",
   "execution_count": 95,
   "metadata": {
    "colab": {},
    "colab_type": "code",
    "id": "KbeFXAGSTg2K"
   },
   "outputs": [
    {
     "data": {
      "text/html": [
       "<div>\n",
       "<style scoped>\n",
       "    .dataframe tbody tr th:only-of-type {\n",
       "        vertical-align: middle;\n",
       "    }\n",
       "\n",
       "    .dataframe tbody tr th {\n",
       "        vertical-align: top;\n",
       "    }\n",
       "\n",
       "    .dataframe thead th {\n",
       "        text-align: right;\n",
       "    }\n",
       "</style>\n",
       "<table border=\"1\" class=\"dataframe\">\n",
       "  <thead>\n",
       "    <tr style=\"text-align: right;\">\n",
       "      <th>Cor</th>\n",
       "      <th>Indígena</th>\n",
       "      <th>Branca</th>\n",
       "      <th>Preta</th>\n",
       "      <th>Amarela</th>\n",
       "      <th>Parda</th>\n",
       "    </tr>\n",
       "    <tr>\n",
       "      <th>Sexo</th>\n",
       "      <th></th>\n",
       "      <th></th>\n",
       "      <th></th>\n",
       "      <th></th>\n",
       "      <th></th>\n",
       "    </tr>\n",
       "  </thead>\n",
       "  <tbody>\n",
       "    <tr>\n",
       "      <th>Masculino</th>\n",
       "      <td>256</td>\n",
       "      <td>22194</td>\n",
       "      <td>5502</td>\n",
       "      <td>235</td>\n",
       "      <td>25063</td>\n",
       "    </tr>\n",
       "    <tr>\n",
       "      <th>Feminino</th>\n",
       "      <td>101</td>\n",
       "      <td>9621</td>\n",
       "      <td>2889</td>\n",
       "      <td>117</td>\n",
       "      <td>10862</td>\n",
       "    </tr>\n",
       "  </tbody>\n",
       "</table>\n",
       "</div>"
      ],
      "text/plain": [
       "Cor        Indígena  Branca  Preta  Amarela  Parda\n",
       "Sexo                                              \n",
       "Masculino       256   22194   5502      235  25063\n",
       "Feminino        101    9621   2889      117  10862"
      ]
     },
     "execution_count": 95,
     "metadata": {},
     "output_type": "execute_result"
    }
   ],
   "source": [
    "df_cor_sexo = pd.crosstab(\n",
    "    index = df_ibge.Sexo,\n",
    "    columns = df_ibge.Cor\n",
    ")\n",
    "\n",
    "df_cor_sexo.rename(sexo, axis = 0, inplace = True)\n",
    "df_cor_sexo.rename(cor, axis = 1, inplace = True)\n",
    "\n",
    "df_cor_sexo"
   ]
  },
  {
   "cell_type": "code",
   "execution_count": 99,
   "metadata": {
    "colab": {},
    "colab_type": "code",
    "id": "csL1jaeSTg2M"
   },
   "outputs": [
    {
     "data": {
      "text/html": [
       "<div>\n",
       "<style scoped>\n",
       "    .dataframe tbody tr th:only-of-type {\n",
       "        vertical-align: middle;\n",
       "    }\n",
       "\n",
       "    .dataframe tbody tr th {\n",
       "        vertical-align: top;\n",
       "    }\n",
       "\n",
       "    .dataframe thead th {\n",
       "        text-align: right;\n",
       "    }\n",
       "</style>\n",
       "<table border=\"1\" class=\"dataframe\">\n",
       "  <thead>\n",
       "    <tr style=\"text-align: right;\">\n",
       "      <th>Cor</th>\n",
       "      <th>Indígena</th>\n",
       "      <th>Branca</th>\n",
       "      <th>Preta</th>\n",
       "      <th>Amarela</th>\n",
       "      <th>Parda</th>\n",
       "    </tr>\n",
       "    <tr>\n",
       "      <th>Sexo</th>\n",
       "      <th></th>\n",
       "      <th></th>\n",
       "      <th></th>\n",
       "      <th></th>\n",
       "      <th></th>\n",
       "    </tr>\n",
       "  </thead>\n",
       "  <tbody>\n",
       "    <tr>\n",
       "      <th>Masculino</th>\n",
       "      <td>0.333160</td>\n",
       "      <td>28.883394</td>\n",
       "      <td>7.160333</td>\n",
       "      <td>0.305830</td>\n",
       "      <td>32.617126</td>\n",
       "    </tr>\n",
       "    <tr>\n",
       "      <th>Feminino</th>\n",
       "      <td>0.131442</td>\n",
       "      <td>12.520822</td>\n",
       "      <td>3.759761</td>\n",
       "      <td>0.152264</td>\n",
       "      <td>14.135867</td>\n",
       "    </tr>\n",
       "  </tbody>\n",
       "</table>\n",
       "</div>"
      ],
      "text/plain": [
       "Cor        Indígena     Branca     Preta   Amarela      Parda\n",
       "Sexo                                                         \n",
       "Masculino  0.333160  28.883394  7.160333  0.305830  32.617126\n",
       "Feminino   0.131442  12.520822  3.759761  0.152264  14.135867"
      ]
     },
     "execution_count": 99,
     "metadata": {},
     "output_type": "execute_result"
    }
   ],
   "source": [
    "df_cor_sexo_perc = pd.crosstab(\n",
    "    index = df_ibge.Sexo,\n",
    "    columns = df_ibge.Cor,\n",
    "    normalize = True\n",
    ") * 100\n",
    "\n",
    "df_cor_sexo_perc.rename(sexo, axis = 0, inplace = True)\n",
    "df_cor_sexo_perc.rename(cor, axis = 1, inplace = True)\n",
    "\n",
    "df_cor_sexo_perc"
   ]
  },
  {
   "cell_type": "markdown",
   "metadata": {
    "colab_type": "text",
    "id": "2jLZmww2Tg2O"
   },
   "source": [
    "> ### Conclusões\n",
    "\n",
    "1- Percebemos que indígenas e amarelos não a minoria na sociedade, visto que eles não chegam a 1% das pessoas que responderam a pesquisa (lembrando que só reponderam chefes de família).\n",
    "\n",
    "2- Percebemos uma alta miscigenação do povo brasileiro, visto que os pardos são a maioria da sociedade tanto em homens quanto em mulheres."
   ]
  },
  {
   "cell_type": "markdown",
   "metadata": {
    "colab_type": "text",
    "id": "Aoeayf6zTg2P"
   },
   "source": [
    "## Realize, para a variável RENDA, uma análise descritiva com as ferramentas que aprendemos em nosso treinamento"
   ]
  },
  {
   "cell_type": "markdown",
   "metadata": {
    "colab_type": "text",
    "id": "c2CtT71oTg2P"
   },
   "source": [
    "### Obtenha a média aritimética"
   ]
  },
  {
   "cell_type": "code",
   "execution_count": 100,
   "metadata": {
    "colab": {},
    "colab_type": "code",
    "id": "qlJESCU6Tg2P"
   },
   "outputs": [
    {
     "data": {
      "text/plain": [
       "np.float64(2000.3831988547631)"
      ]
     },
     "execution_count": 100,
     "metadata": {},
     "output_type": "execute_result"
    }
   ],
   "source": [
    "df_ibge.Renda.mean()"
   ]
  },
  {
   "cell_type": "markdown",
   "metadata": {
    "colab_type": "text",
    "id": "Xd4saPBCTg2R"
   },
   "source": [
    "### Obtenha a mediana"
   ]
  },
  {
   "cell_type": "code",
   "execution_count": 102,
   "metadata": {
    "colab": {},
    "colab_type": "code",
    "id": "vHTqX-UATg2R"
   },
   "outputs": [
    {
     "data": {
      "text/plain": [
       "1200.0"
      ]
     },
     "execution_count": 102,
     "metadata": {},
     "output_type": "execute_result"
    }
   ],
   "source": [
    "df_ibge.Renda.median()"
   ]
  },
  {
   "cell_type": "markdown",
   "metadata": {
    "colab_type": "text",
    "id": "_e40rDSwTg2U"
   },
   "source": [
    "### Obtenha a moda"
   ]
  },
  {
   "cell_type": "code",
   "execution_count": 176,
   "metadata": {
    "colab": {},
    "colab_type": "code",
    "id": "BFOOdYOvTg2V"
   },
   "outputs": [
    {
     "data": {
      "text/plain": [
       "0    788\n",
       "Name: Renda, dtype: int64"
      ]
     },
     "execution_count": 176,
     "metadata": {},
     "output_type": "execute_result"
    }
   ],
   "source": [
    "df_ibge.Renda.mode()"
   ]
  },
  {
   "cell_type": "markdown",
   "metadata": {
    "colab_type": "text",
    "id": "Rnr1gOCMTg2X"
   },
   "source": [
    "### Obtenha o desvio médio absoluto"
   ]
  },
  {
   "cell_type": "code",
   "execution_count": 112,
   "metadata": {
    "colab": {},
    "colab_type": "code",
    "id": "TmE_1QDGTg2Y"
   },
   "outputs": [],
   "source": [
    "def mad(df, coluna):\n",
    "    df_coluna = df[[coluna]].copy()\n",
    "    media_coluna = df_coluna.mean().iloc[0]\n",
    "    df_coluna.loc[:, '|Desvio|'] = abs(df_coluna[coluna] - media_coluna)\n",
    "    mad = df_coluna['|Desvio|'].mean()\n",
    "    return df_coluna, mad"
   ]
  },
  {
   "cell_type": "code",
   "execution_count": 113,
   "metadata": {},
   "outputs": [
    {
     "data": {
      "text/html": [
       "<div>\n",
       "<style scoped>\n",
       "    .dataframe tbody tr th:only-of-type {\n",
       "        vertical-align: middle;\n",
       "    }\n",
       "\n",
       "    .dataframe tbody tr th {\n",
       "        vertical-align: top;\n",
       "    }\n",
       "\n",
       "    .dataframe thead th {\n",
       "        text-align: right;\n",
       "    }\n",
       "</style>\n",
       "<table border=\"1\" class=\"dataframe\">\n",
       "  <thead>\n",
       "    <tr style=\"text-align: right;\">\n",
       "      <th></th>\n",
       "      <th>Renda</th>\n",
       "      <th>|Desvio|</th>\n",
       "    </tr>\n",
       "  </thead>\n",
       "  <tbody>\n",
       "    <tr>\n",
       "      <th>0</th>\n",
       "      <td>800</td>\n",
       "      <td>1200.383199</td>\n",
       "    </tr>\n",
       "    <tr>\n",
       "      <th>1</th>\n",
       "      <td>1150</td>\n",
       "      <td>850.383199</td>\n",
       "    </tr>\n",
       "    <tr>\n",
       "      <th>2</th>\n",
       "      <td>880</td>\n",
       "      <td>1120.383199</td>\n",
       "    </tr>\n",
       "    <tr>\n",
       "      <th>3</th>\n",
       "      <td>3500</td>\n",
       "      <td>1499.616801</td>\n",
       "    </tr>\n",
       "    <tr>\n",
       "      <th>4</th>\n",
       "      <td>150</td>\n",
       "      <td>1850.383199</td>\n",
       "    </tr>\n",
       "    <tr>\n",
       "      <th>...</th>\n",
       "      <td>...</td>\n",
       "      <td>...</td>\n",
       "    </tr>\n",
       "    <tr>\n",
       "      <th>76835</th>\n",
       "      <td>812</td>\n",
       "      <td>1188.383199</td>\n",
       "    </tr>\n",
       "    <tr>\n",
       "      <th>76836</th>\n",
       "      <td>1500</td>\n",
       "      <td>500.383199</td>\n",
       "    </tr>\n",
       "    <tr>\n",
       "      <th>76837</th>\n",
       "      <td>1300</td>\n",
       "      <td>700.383199</td>\n",
       "    </tr>\n",
       "    <tr>\n",
       "      <th>76838</th>\n",
       "      <td>1500</td>\n",
       "      <td>500.383199</td>\n",
       "    </tr>\n",
       "    <tr>\n",
       "      <th>76839</th>\n",
       "      <td>900</td>\n",
       "      <td>1100.383199</td>\n",
       "    </tr>\n",
       "  </tbody>\n",
       "</table>\n",
       "<p>76840 rows × 2 columns</p>\n",
       "</div>"
      ],
      "text/plain": [
       "       Renda     |Desvio|\n",
       "0        800  1200.383199\n",
       "1       1150   850.383199\n",
       "2        880  1120.383199\n",
       "3       3500  1499.616801\n",
       "4        150  1850.383199\n",
       "...      ...          ...\n",
       "76835    812  1188.383199\n",
       "76836   1500   500.383199\n",
       "76837   1300   700.383199\n",
       "76838   1500   500.383199\n",
       "76839    900  1100.383199\n",
       "\n",
       "[76840 rows x 2 columns]"
      ]
     },
     "metadata": {},
     "output_type": "display_data"
    },
    {
     "name": "stdout",
     "output_type": "stream",
     "text": [
      "1526.4951371638058\n"
     ]
    }
   ],
   "source": [
    "df_desvio_renda, mad = mad(df_ibge, 'Renda')\n",
    "display(df_desvio_renda)\n",
    "print(mad)"
   ]
  },
  {
   "cell_type": "markdown",
   "metadata": {
    "colab_type": "text",
    "id": "hCgV_XaQTg2Z"
   },
   "source": [
    "### Obtenha a variância"
   ]
  },
  {
   "cell_type": "code",
   "execution_count": 105,
   "metadata": {
    "colab": {},
    "colab_type": "code",
    "id": "SwRgACeGTg2a"
   },
   "outputs": [
    {
     "data": {
      "text/plain": [
       "11044906.00622118"
      ]
     },
     "execution_count": 105,
     "metadata": {},
     "output_type": "execute_result"
    }
   ],
   "source": [
    "df_ibge.Renda.var()"
   ]
  },
  {
   "cell_type": "markdown",
   "metadata": {
    "colab_type": "text",
    "id": "gsO6MKOcTg2c"
   },
   "source": [
    "### Obtenha o desvio-padrão"
   ]
  },
  {
   "cell_type": "code",
   "execution_count": 106,
   "metadata": {
    "colab": {},
    "colab_type": "code",
    "id": "gR-LVTRYTg2d"
   },
   "outputs": [
    {
     "data": {
      "text/plain": [
       "3323.3877303470294"
      ]
     },
     "execution_count": 106,
     "metadata": {},
     "output_type": "execute_result"
    }
   ],
   "source": [
    "df_ibge.Renda.std()"
   ]
  },
  {
   "cell_type": "markdown",
   "metadata": {
    "colab_type": "text",
    "id": "vG-rdO5fTg2f"
   },
   "source": [
    "### Obtenha a média, mediana e valor máximo da variável RENDA segundo SEXO e COR\n",
    "#### <font color='blue'>Destaque os pontos mais importante que você observa nas tabulações</font>\n",
    "#### <font color='red'>O parâmento <i>aggfunc</i> da função <i>crosstab()</i> pode receber uma lista de funções. Exemplo: <i>aggfunc = {'mean', 'median', 'max'}</i></font>"
   ]
  },
  {
   "cell_type": "code",
   "execution_count": 121,
   "metadata": {
    "colab": {},
    "colab_type": "code",
    "id": "VgxygKWXTg2g"
   },
   "outputs": [
    {
     "data": {
      "text/html": [
       "<div>\n",
       "<style scoped>\n",
       "    .dataframe tbody tr th:only-of-type {\n",
       "        vertical-align: middle;\n",
       "    }\n",
       "\n",
       "    .dataframe tbody tr th {\n",
       "        vertical-align: top;\n",
       "    }\n",
       "\n",
       "    .dataframe thead tr th {\n",
       "        text-align: left;\n",
       "    }\n",
       "\n",
       "    .dataframe thead tr:last-of-type th {\n",
       "        text-align: right;\n",
       "    }\n",
       "</style>\n",
       "<table border=\"1\" class=\"dataframe\">\n",
       "  <thead>\n",
       "    <tr>\n",
       "      <th></th>\n",
       "      <th colspan=\"5\" halign=\"left\">max</th>\n",
       "      <th colspan=\"5\" halign=\"left\">mean</th>\n",
       "      <th colspan=\"5\" halign=\"left\">median</th>\n",
       "    </tr>\n",
       "    <tr>\n",
       "      <th>Cor</th>\n",
       "      <th>Indígena</th>\n",
       "      <th>Branca</th>\n",
       "      <th>Preta</th>\n",
       "      <th>Amarela</th>\n",
       "      <th>Parda</th>\n",
       "      <th>Indígena</th>\n",
       "      <th>Branca</th>\n",
       "      <th>Preta</th>\n",
       "      <th>Amarela</th>\n",
       "      <th>Parda</th>\n",
       "      <th>Indígena</th>\n",
       "      <th>Branca</th>\n",
       "      <th>Preta</th>\n",
       "      <th>Amarela</th>\n",
       "      <th>Parda</th>\n",
       "    </tr>\n",
       "    <tr>\n",
       "      <th>Sexo</th>\n",
       "      <th></th>\n",
       "      <th></th>\n",
       "      <th></th>\n",
       "      <th></th>\n",
       "      <th></th>\n",
       "      <th></th>\n",
       "      <th></th>\n",
       "      <th></th>\n",
       "      <th></th>\n",
       "      <th></th>\n",
       "      <th></th>\n",
       "      <th></th>\n",
       "      <th></th>\n",
       "      <th></th>\n",
       "      <th></th>\n",
       "    </tr>\n",
       "  </thead>\n",
       "  <tbody>\n",
       "    <tr>\n",
       "      <th>Masculino</th>\n",
       "      <td>10000</td>\n",
       "      <td>200000</td>\n",
       "      <td>50000</td>\n",
       "      <td>50000</td>\n",
       "      <td>100000</td>\n",
       "      <td>1081.710938</td>\n",
       "      <td>2925.744435</td>\n",
       "      <td>1603.861687</td>\n",
       "      <td>4758.251064</td>\n",
       "      <td>1659.577425</td>\n",
       "      <td>797.5</td>\n",
       "      <td>1700.0</td>\n",
       "      <td>1200.0</td>\n",
       "      <td>2800.0</td>\n",
       "      <td>1200.0</td>\n",
       "    </tr>\n",
       "    <tr>\n",
       "      <th>Feminino</th>\n",
       "      <td>120000</td>\n",
       "      <td>100000</td>\n",
       "      <td>23000</td>\n",
       "      <td>20000</td>\n",
       "      <td>30000</td>\n",
       "      <td>2464.386139</td>\n",
       "      <td>2109.866750</td>\n",
       "      <td>1134.596400</td>\n",
       "      <td>3027.341880</td>\n",
       "      <td>1176.758516</td>\n",
       "      <td>788.0</td>\n",
       "      <td>1200.0</td>\n",
       "      <td>800.0</td>\n",
       "      <td>1500.0</td>\n",
       "      <td>800.0</td>\n",
       "    </tr>\n",
       "  </tbody>\n",
       "</table>\n",
       "</div>"
      ],
      "text/plain": [
       "               max                                        mean               \\\n",
       "Cor       Indígena  Branca  Preta Amarela   Parda     Indígena       Branca   \n",
       "Sexo                                                                          \n",
       "Masculino    10000  200000  50000   50000  100000  1081.710938  2925.744435   \n",
       "Feminino    120000  100000  23000   20000   30000  2464.386139  2109.866750   \n",
       "\n",
       "                                                   median                  \\\n",
       "Cor              Preta      Amarela        Parda Indígena  Branca   Preta   \n",
       "Sexo                                                                        \n",
       "Masculino  1603.861687  4758.251064  1659.577425    797.5  1700.0  1200.0   \n",
       "Feminino   1134.596400  3027.341880  1176.758516    788.0  1200.0   800.0   \n",
       "\n",
       "                           \n",
       "Cor       Amarela   Parda  \n",
       "Sexo                       \n",
       "Masculino  2800.0  1200.0  \n",
       "Feminino   1500.0   800.0  "
      ]
     },
     "metadata": {},
     "output_type": "display_data"
    }
   ],
   "source": [
    "df_renda_sexo_cor = pd.crosstab(\n",
    "    index = df_ibge.Sexo,\n",
    "    columns = df_ibge.Cor,\n",
    "    aggfunc = {'mean', 'median', 'max'},\n",
    "    values = df_ibge.Renda\n",
    ")\n",
    "\n",
    "df_renda_sexo_cor.rename(sexo, axis = 0, inplace = True)\n",
    "df_renda_sexo_cor.rename(cor, axis = 1, inplace = True)\n",
    "\n",
    "display(df_renda_sexo_cor)"
   ]
  },
  {
   "cell_type": "markdown",
   "metadata": {
    "colab_type": "text",
    "id": "CleJ6c1rTg2i"
   },
   "source": [
    "### Obtenha as medidas de dispersão da variável RENDA segundo SEXO e COR\n",
    "#### <font color='blue'>Destaque os pontos mais importante que você observa nas tabulações</font>\n",
    "#### <font color='red'>O parâmento <i>aggfunc</i> da função <i>crosstab()</i> pode receber uma lista de funções. Exemplo: <i>aggfunc = {'mad', 'var', 'std'}</i></font>"
   ]
  },
  {
   "cell_type": "code",
   "execution_count": 122,
   "metadata": {
    "colab": {},
    "colab_type": "code",
    "id": "bNv-eWZ3Tg2j"
   },
   "outputs": [
    {
     "data": {
      "text/html": [
       "<div>\n",
       "<style scoped>\n",
       "    .dataframe tbody tr th:only-of-type {\n",
       "        vertical-align: middle;\n",
       "    }\n",
       "\n",
       "    .dataframe tbody tr th {\n",
       "        vertical-align: top;\n",
       "    }\n",
       "\n",
       "    .dataframe thead tr th {\n",
       "        text-align: left;\n",
       "    }\n",
       "\n",
       "    .dataframe thead tr:last-of-type th {\n",
       "        text-align: right;\n",
       "    }\n",
       "</style>\n",
       "<table border=\"1\" class=\"dataframe\">\n",
       "  <thead>\n",
       "    <tr>\n",
       "      <th></th>\n",
       "      <th colspan=\"5\" halign=\"left\">std</th>\n",
       "    </tr>\n",
       "    <tr>\n",
       "      <th>Cor</th>\n",
       "      <th>Indígena</th>\n",
       "      <th>Branca</th>\n",
       "      <th>Preta</th>\n",
       "      <th>Amarela</th>\n",
       "      <th>Parda</th>\n",
       "    </tr>\n",
       "    <tr>\n",
       "      <th>Sexo</th>\n",
       "      <th></th>\n",
       "      <th></th>\n",
       "      <th></th>\n",
       "      <th></th>\n",
       "      <th></th>\n",
       "    </tr>\n",
       "  </thead>\n",
       "  <tbody>\n",
       "    <tr>\n",
       "      <th>Masculino</th>\n",
       "      <td>1204.093490</td>\n",
       "      <td>4750.791872</td>\n",
       "      <td>1936.309271</td>\n",
       "      <td>5740.82482</td>\n",
       "      <td>2312.087184</td>\n",
       "    </tr>\n",
       "    <tr>\n",
       "      <th>Feminino</th>\n",
       "      <td>11957.498292</td>\n",
       "      <td>3251.013154</td>\n",
       "      <td>1349.799809</td>\n",
       "      <td>3731.17366</td>\n",
       "      <td>1596.233048</td>\n",
       "    </tr>\n",
       "  </tbody>\n",
       "</table>\n",
       "</div>"
      ],
      "text/plain": [
       "                    std                                                   \n",
       "Cor            Indígena       Branca        Preta     Amarela        Parda\n",
       "Sexo                                                                      \n",
       "Masculino   1204.093490  4750.791872  1936.309271  5740.82482  2312.087184\n",
       "Feminino   11957.498292  3251.013154  1349.799809  3731.17366  1596.233048"
      ]
     },
     "metadata": {},
     "output_type": "display_data"
    }
   ],
   "source": [
    "df_renda_sexo_cor = pd.crosstab(\n",
    "    index = df_ibge.Sexo,\n",
    "    columns = df_ibge.Cor,\n",
    "    aggfunc = {'std'},\n",
    "    values = df_ibge.Renda\n",
    ")\n",
    "\n",
    "df_renda_sexo_cor.rename(sexo, axis = 0, inplace = True)\n",
    "df_renda_sexo_cor.rename(cor, axis = 1, inplace = True)\n",
    "\n",
    "display(df_renda_sexo_cor)"
   ]
  },
  {
   "cell_type": "markdown",
   "metadata": {
    "colab_type": "text",
    "id": "ibndm9iwTg2i"
   },
   "source": [
    "> ### Conclusões\n",
    "\n",
    "1- Percebemos que homens e mulheres brancos tem um salário maior que as outras raças\n",
    "\n",
    "2- Percebemos que os brancos e amarelos (homens e mulheres) tem uma dispersão nos dados muito grande, ou seja, temos pessoas com salários muito alto e muito baixo, evidenciando mais uma vez a desigualdade.\n",
    "\n",
    "3- Os homens indígenas e as mulheres pardas tem seus salários bem menos dispersos."
   ]
  },
  {
   "cell_type": "markdown",
   "metadata": {
    "colab_type": "text",
    "id": "QSYjkdyOTg2l"
   },
   "source": [
    "### Construa um box plot da variável RENDA segundo SEXO e COR\n",
    "#### <font color='blue'>É possível verificar algum comportamento diferenciado no rendimento entre os grupos de pessoas analisados? Avalie o gráfico e destaque os pontos mais importantes.</font>\n",
    "#### <font color='red'>1º - Utilize somente as informações de pessoas com renda abaixo de R$ 10.000</font>\n",
    "#### <font color='red'>2º - Para incluir uma terceira variável na construção de um boxplot utilize o parâmetro <i>hue</i> e indique a variável que quer incluir na subdivisão.</font>\n",
    "#### Mais informações: https://seaborn.pydata.org/generated/seaborn.boxplot.html"
   ]
  },
  {
   "cell_type": "code",
   "execution_count": 181,
   "metadata": {
    "colab": {},
    "colab_type": "code",
    "id": "8hGa4SMRTg2m"
   },
   "outputs": [
    {
     "name": "stderr",
     "output_type": "stream",
     "text": [
      "/tmp/ipykernel_63763/1377152883.py:10: UserWarning: set_ticklabels() should only be used with a fixed number of ticks, i.e. after set_ticks() or using a FixedLocator.\n",
      "  ax.set_yticklabels(['Indígena', 'Branca', 'Preta', 'Amarela', 'Parda', 'Sem declaração'], fontsize=12)    # Configurando o label de cada categoria do eixo Y\n"
     ]
    },
    {
     "data": {
      "text/plain": [
       "<Axes: title={'center': 'Box-plot da RENDA por SEXO e COR'}, xlabel='R$', ylabel='Cor'>"
      ]
     },
     "execution_count": 181,
     "metadata": {},
     "output_type": "execute_result"
    },
    {
     "data": {
      "image/png": "[encoded data removed]",
      "text/plain": [
       "<Figure size 1400x800 with 1 Axes>"
      ]
     },
     "metadata": {},
     "output_type": "display_data"
    }
   ],
   "source": [
    "ax = sns.boxplot(x = 'Renda', y = 'Cor', hue = 'Sexo', data=df_ibge.query('Renda < 10000'), orient='h')\n",
    "\n",
    "ax.figure.set_size_inches(14, 8)    # Personalizando o tamanho da figura\n",
    "\n",
    "ax.set_title('Box-plot da RENDA por SEXO e COR', fontsize=18)    # Configurando o título do gráfico\n",
    "\n",
    "ax.set_xlabel('R$', fontsize=14)    # Configurando o label do eixo X\n",
    "\n",
    "ax.set_ylabel('Cor', fontsize=14)    # Configurando o label do eixo Y\n",
    "ax.set_yticklabels(['Indígena', 'Branca', 'Preta', 'Amarela', 'Parda', 'Sem declaração'], fontsize=12)    # Configurando o label de cada categoria do eixo Y\n",
    "\n",
    "# Configurações da legenda do gráfico (Sexo)\n",
    "handles, _ = ax.get_legend_handles_labels()\n",
    "ax.legend(handles, ['Masculino', 'Feminino'], fontsize=12)\n",
    "\n",
    "ax"
   ]
  },
  {
   "cell_type": "markdown",
   "metadata": {
    "colab_type": "text",
    "id": "ROiIQRFhTg2o"
   },
   "source": [
    "> ### Conclusões\n",
    "\n",
    "Escreva suas conclusões aqui..."
   ]
  },
  {
   "cell_type": "markdown",
   "metadata": {
    "colab_type": "text",
    "id": "zi4BaGooTg2o"
   },
   "source": [
    "# <font color=\"red\">DESAFIO<font>\n",
    "### Qual percentual de pessoas de nosso <i>dataset</i> ganham um salário mínimo (R$ 788,00) ou menos?\n",
    "#### <font color='red'>Utilize a função <i>percentileofscore()</i> do <i>scipy</i> para realizar estas análises.</font>\n",
    "#### Mais informações: https://docs.scipy.org/doc/scipy/reference/generated/scipy.stats.percentileofscore.html\n"
   ]
  },
  {
   "cell_type": "code",
   "execution_count": 143,
   "metadata": {
    "colab": {},
    "colab_type": "code",
    "id": "9DwXo2yITg2p"
   },
   "outputs": [
    {
     "data": {
      "text/plain": [
       "np.float64(28.867777199375325)"
      ]
     },
     "execution_count": 143,
     "metadata": {},
     "output_type": "execute_result"
    }
   ],
   "source": [
    "stats.percentileofscore(a = df_ibge.Renda, score = 788, kind = 'weak')"
   ]
  },
  {
   "cell_type": "markdown",
   "metadata": {
    "colab_type": "text",
    "id": "bl0fOMuKTg2q"
   },
   "source": [
    "### Qual o valor máximo ganho por 99% das pessoas de nosso <i>dataset</i>?\n",
    "#### <font color='red'>Utilize o método <i>quantile()</i> do <i>pandas</i> para realizar estas análises.</font>"
   ]
  },
  {
   "cell_type": "code",
   "execution_count": 151,
   "metadata": {
    "colab": {},
    "colab_type": "code",
    "id": "cIVwy8bKTg2q"
   },
   "outputs": [
    {
     "data": {
      "text/plain": [
       "0.01        0.0\n",
       "0.02        0.0\n",
       "0.03        0.0\n",
       "0.04       50.0\n",
       "0.05      100.0\n",
       "         ...   \n",
       "0.95     6000.0\n",
       "0.96     7000.0\n",
       "0.97     8000.0\n",
       "0.98    10000.0\n",
       "0.99    15000.0\n",
       "Name: Renda, Length: 99, dtype: float64"
      ]
     },
     "execution_count": 151,
     "metadata": {},
     "output_type": "execute_result"
    }
   ],
   "source": [
    "df_ibge.Renda.quantile([x / 100 for x in range(1, 100)])"
   ]
  },
  {
   "cell_type": "markdown",
   "metadata": {
    "colab_type": "text",
    "id": "zeRhvtngTg2r"
   },
   "source": [
    "### Obtenha a média, mediana, valor máximo e desvio-padrão da variável RENDA segundo ANOS DE ESTUDO e SEXO\n",
    "#### <font color='blue'>Destaque os pontos mais importante que você observa nas tabulações</font>\n",
    "#### <font color='red'>O parâmento <i>aggfunc</i> da função <i>crosstab()</i> pode receber uma lista de funções. Exemplo: <i>aggfunc = ['mean', 'median', 'max', 'std']</i></font>"
   ]
  },
  {
   "cell_type": "code",
   "execution_count": 159,
   "metadata": {
    "colab": {},
    "colab_type": "code",
    "id": "8nxGdQIpTg2s"
   },
   "outputs": [
    {
     "data": {
      "text/html": [
       "<div>\n",
       "<style scoped>\n",
       "    .dataframe tbody tr th:only-of-type {\n",
       "        vertical-align: middle;\n",
       "    }\n",
       "\n",
       "    .dataframe tbody tr th {\n",
       "        vertical-align: top;\n",
       "    }\n",
       "\n",
       "    .dataframe thead tr th {\n",
       "        text-align: left;\n",
       "    }\n",
       "\n",
       "    .dataframe thead tr:last-of-type th {\n",
       "        text-align: right;\n",
       "    }\n",
       "</style>\n",
       "<table border=\"1\" class=\"dataframe\">\n",
       "  <thead>\n",
       "    <tr>\n",
       "      <th></th>\n",
       "      <th colspan=\"2\" halign=\"left\">mean</th>\n",
       "    </tr>\n",
       "    <tr>\n",
       "      <th>Sexo</th>\n",
       "      <th>Masculino</th>\n",
       "      <th>Feminino</th>\n",
       "    </tr>\n",
       "    <tr>\n",
       "      <th>Anos de Estudo</th>\n",
       "      <th></th>\n",
       "      <th></th>\n",
       "    </tr>\n",
       "  </thead>\n",
       "  <tbody>\n",
       "    <tr>\n",
       "      <th>Sem instrução e menos de 1 ano</th>\n",
       "      <td>799.494638</td>\n",
       "      <td>516.201748</td>\n",
       "    </tr>\n",
       "    <tr>\n",
       "      <th>1 ano</th>\n",
       "      <td>895.629047</td>\n",
       "      <td>492.771987</td>\n",
       "    </tr>\n",
       "    <tr>\n",
       "      <th>2 anos</th>\n",
       "      <td>931.178986</td>\n",
       "      <td>529.911638</td>\n",
       "    </tr>\n",
       "    <tr>\n",
       "      <th>3 anos</th>\n",
       "      <td>1109.203862</td>\n",
       "      <td>546.853916</td>\n",
       "    </tr>\n",
       "    <tr>\n",
       "      <th>4 anos</th>\n",
       "      <td>1302.329283</td>\n",
       "      <td>704.279111</td>\n",
       "    </tr>\n",
       "    <tr>\n",
       "      <th>5 anos</th>\n",
       "      <td>1338.653218</td>\n",
       "      <td>781.389776</td>\n",
       "    </tr>\n",
       "    <tr>\n",
       "      <th>6 anos</th>\n",
       "      <td>1448.875419</td>\n",
       "      <td>833.732824</td>\n",
       "    </tr>\n",
       "    <tr>\n",
       "      <th>7 anos</th>\n",
       "      <td>1465.497940</td>\n",
       "      <td>830.751004</td>\n",
       "    </tr>\n",
       "    <tr>\n",
       "      <th>8 anos</th>\n",
       "      <td>1639.396667</td>\n",
       "      <td>933.615351</td>\n",
       "    </tr>\n",
       "    <tr>\n",
       "      <th>9 anos</th>\n",
       "      <td>1508.038850</td>\n",
       "      <td>868.021700</td>\n",
       "    </tr>\n",
       "    <tr>\n",
       "      <th>10 anos</th>\n",
       "      <td>1731.270847</td>\n",
       "      <td>925.919225</td>\n",
       "    </tr>\n",
       "    <tr>\n",
       "      <th>11 anos</th>\n",
       "      <td>2117.060504</td>\n",
       "      <td>1286.790889</td>\n",
       "    </tr>\n",
       "    <tr>\n",
       "      <th>12 anos</th>\n",
       "      <td>2470.330776</td>\n",
       "      <td>1682.313725</td>\n",
       "    </tr>\n",
       "    <tr>\n",
       "      <th>13 anos</th>\n",
       "      <td>3195.099154</td>\n",
       "      <td>1911.730047</td>\n",
       "    </tr>\n",
       "    <tr>\n",
       "      <th>14 anos</th>\n",
       "      <td>3706.620269</td>\n",
       "      <td>2226.460457</td>\n",
       "    </tr>\n",
       "    <tr>\n",
       "      <th>15 anos ou mais</th>\n",
       "      <td>6134.279790</td>\n",
       "      <td>3899.513231</td>\n",
       "    </tr>\n",
       "    <tr>\n",
       "      <th>Não determinados</th>\n",
       "      <td>1295.761905</td>\n",
       "      <td>798.174419</td>\n",
       "    </tr>\n",
       "  </tbody>\n",
       "</table>\n",
       "</div>"
      ],
      "text/plain": [
       "                                       mean             \n",
       "Sexo                              Masculino     Feminino\n",
       "Anos de Estudo                                          \n",
       "Sem instrução e menos de 1 ano   799.494638   516.201748\n",
       "1 ano                            895.629047   492.771987\n",
       "2 anos                           931.178986   529.911638\n",
       "3 anos                          1109.203862   546.853916\n",
       "4 anos                          1302.329283   704.279111\n",
       "5 anos                          1338.653218   781.389776\n",
       "6 anos                          1448.875419   833.732824\n",
       "7 anos                          1465.497940   830.751004\n",
       "8 anos                          1639.396667   933.615351\n",
       "9 anos                          1508.038850   868.021700\n",
       "10 anos                         1731.270847   925.919225\n",
       "11 anos                         2117.060504  1286.790889\n",
       "12 anos                         2470.330776  1682.313725\n",
       "13 anos                         3195.099154  1911.730047\n",
       "14 anos                         3706.620269  2226.460457\n",
       "15 anos ou mais                 6134.279790  3899.513231\n",
       "Não determinados                1295.761905   798.174419"
      ]
     },
     "execution_count": 159,
     "metadata": {},
     "output_type": "execute_result"
    }
   ],
   "source": [
    "df_estudo_sexo = pd.crosstab(\n",
    "    index = df_ibge['Anos de Estudo'],\n",
    "    columns = df_ibge.Sexo,\n",
    "    aggfunc = {'mean'},\n",
    "    values = df_ibge.Renda\n",
    ")\n",
    "\n",
    "df_estudo_sexo.rename(sexo, axis = 1, inplace = True)\n",
    "df_estudo_sexo.rename(anos_de_estudo, axis = 0, inplace = True)\n",
    "    \n",
    "df_estudo_sexo"
   ]
  },
  {
   "cell_type": "code",
   "execution_count": 160,
   "metadata": {},
   "outputs": [
    {
     "data": {
      "text/html": [
       "<div>\n",
       "<style scoped>\n",
       "    .dataframe tbody tr th:only-of-type {\n",
       "        vertical-align: middle;\n",
       "    }\n",
       "\n",
       "    .dataframe tbody tr th {\n",
       "        vertical-align: top;\n",
       "    }\n",
       "\n",
       "    .dataframe thead tr th {\n",
       "        text-align: left;\n",
       "    }\n",
       "\n",
       "    .dataframe thead tr:last-of-type th {\n",
       "        text-align: right;\n",
       "    }\n",
       "</style>\n",
       "<table border=\"1\" class=\"dataframe\">\n",
       "  <thead>\n",
       "    <tr>\n",
       "      <th></th>\n",
       "      <th colspan=\"2\" halign=\"left\">median</th>\n",
       "    </tr>\n",
       "    <tr>\n",
       "      <th>Sexo</th>\n",
       "      <th>Masculino</th>\n",
       "      <th>Feminino</th>\n",
       "    </tr>\n",
       "    <tr>\n",
       "      <th>Anos de Estudo</th>\n",
       "      <th></th>\n",
       "      <th></th>\n",
       "    </tr>\n",
       "  </thead>\n",
       "  <tbody>\n",
       "    <tr>\n",
       "      <th>Sem instrução e menos de 1 ano</th>\n",
       "      <td>700.0</td>\n",
       "      <td>390.0</td>\n",
       "    </tr>\n",
       "    <tr>\n",
       "      <th>1 ano</th>\n",
       "      <td>788.0</td>\n",
       "      <td>400.0</td>\n",
       "    </tr>\n",
       "    <tr>\n",
       "      <th>2 anos</th>\n",
       "      <td>788.0</td>\n",
       "      <td>450.0</td>\n",
       "    </tr>\n",
       "    <tr>\n",
       "      <th>3 anos</th>\n",
       "      <td>800.0</td>\n",
       "      <td>500.0</td>\n",
       "    </tr>\n",
       "    <tr>\n",
       "      <th>4 anos</th>\n",
       "      <td>1000.0</td>\n",
       "      <td>788.0</td>\n",
       "    </tr>\n",
       "    <tr>\n",
       "      <th>5 anos</th>\n",
       "      <td>1045.0</td>\n",
       "      <td>788.0</td>\n",
       "    </tr>\n",
       "    <tr>\n",
       "      <th>6 anos</th>\n",
       "      <td>1200.0</td>\n",
       "      <td>788.0</td>\n",
       "    </tr>\n",
       "    <tr>\n",
       "      <th>7 anos</th>\n",
       "      <td>1200.0</td>\n",
       "      <td>788.0</td>\n",
       "    </tr>\n",
       "    <tr>\n",
       "      <th>8 anos</th>\n",
       "      <td>1300.0</td>\n",
       "      <td>800.0</td>\n",
       "    </tr>\n",
       "    <tr>\n",
       "      <th>9 anos</th>\n",
       "      <td>1200.0</td>\n",
       "      <td>788.0</td>\n",
       "    </tr>\n",
       "    <tr>\n",
       "      <th>10 anos</th>\n",
       "      <td>1218.0</td>\n",
       "      <td>800.0</td>\n",
       "    </tr>\n",
       "    <tr>\n",
       "      <th>11 anos</th>\n",
       "      <td>1500.0</td>\n",
       "      <td>1000.0</td>\n",
       "    </tr>\n",
       "    <tr>\n",
       "      <th>12 anos</th>\n",
       "      <td>1800.0</td>\n",
       "      <td>1200.0</td>\n",
       "    </tr>\n",
       "    <tr>\n",
       "      <th>13 anos</th>\n",
       "      <td>2400.0</td>\n",
       "      <td>1300.0</td>\n",
       "    </tr>\n",
       "    <tr>\n",
       "      <th>14 anos</th>\n",
       "      <td>2500.0</td>\n",
       "      <td>1600.0</td>\n",
       "    </tr>\n",
       "    <tr>\n",
       "      <th>15 anos ou mais</th>\n",
       "      <td>4000.0</td>\n",
       "      <td>2800.0</td>\n",
       "    </tr>\n",
       "    <tr>\n",
       "      <th>Não determinados</th>\n",
       "      <td>1200.0</td>\n",
       "      <td>788.0</td>\n",
       "    </tr>\n",
       "  </tbody>\n",
       "</table>\n",
       "</div>"
      ],
      "text/plain": [
       "                                  median         \n",
       "Sexo                           Masculino Feminino\n",
       "Anos de Estudo                                   \n",
       "Sem instrução e menos de 1 ano     700.0    390.0\n",
       "1 ano                              788.0    400.0\n",
       "2 anos                             788.0    450.0\n",
       "3 anos                             800.0    500.0\n",
       "4 anos                            1000.0    788.0\n",
       "5 anos                            1045.0    788.0\n",
       "6 anos                            1200.0    788.0\n",
       "7 anos                            1200.0    788.0\n",
       "8 anos                            1300.0    800.0\n",
       "9 anos                            1200.0    788.0\n",
       "10 anos                           1218.0    800.0\n",
       "11 anos                           1500.0   1000.0\n",
       "12 anos                           1800.0   1200.0\n",
       "13 anos                           2400.0   1300.0\n",
       "14 anos                           2500.0   1600.0\n",
       "15 anos ou mais                   4000.0   2800.0\n",
       "Não determinados                  1200.0    788.0"
      ]
     },
     "execution_count": 160,
     "metadata": {},
     "output_type": "execute_result"
    }
   ],
   "source": [
    "df_estudo_sexo = pd.crosstab(\n",
    "    index = df_ibge['Anos de Estudo'],\n",
    "    columns = df_ibge.Sexo,\n",
    "    aggfunc = {'median'},\n",
    "    values = df_ibge.Renda\n",
    ")\n",
    "\n",
    "df_estudo_sexo.rename(sexo, axis = 1, inplace = True)\n",
    "df_estudo_sexo.rename(anos_de_estudo, axis = 0, inplace = True)\n",
    "\n",
    "df_estudo_sexo"
   ]
  },
  {
   "cell_type": "code",
   "execution_count": 161,
   "metadata": {},
   "outputs": [
    {
     "data": {
      "text/html": [
       "<div>\n",
       "<style scoped>\n",
       "    .dataframe tbody tr th:only-of-type {\n",
       "        vertical-align: middle;\n",
       "    }\n",
       "\n",
       "    .dataframe tbody tr th {\n",
       "        vertical-align: top;\n",
       "    }\n",
       "\n",
       "    .dataframe thead tr th {\n",
       "        text-align: left;\n",
       "    }\n",
       "\n",
       "    .dataframe thead tr:last-of-type th {\n",
       "        text-align: right;\n",
       "    }\n",
       "</style>\n",
       "<table border=\"1\" class=\"dataframe\">\n",
       "  <thead>\n",
       "    <tr>\n",
       "      <th></th>\n",
       "      <th colspan=\"2\" halign=\"left\">max</th>\n",
       "    </tr>\n",
       "    <tr>\n",
       "      <th>Sexo</th>\n",
       "      <th>Masculino</th>\n",
       "      <th>Feminino</th>\n",
       "    </tr>\n",
       "    <tr>\n",
       "      <th>Anos de Estudo</th>\n",
       "      <th></th>\n",
       "      <th></th>\n",
       "    </tr>\n",
       "  </thead>\n",
       "  <tbody>\n",
       "    <tr>\n",
       "      <th>Sem instrução e menos de 1 ano</th>\n",
       "      <td>30000</td>\n",
       "      <td>10000</td>\n",
       "    </tr>\n",
       "    <tr>\n",
       "      <th>1 ano</th>\n",
       "      <td>30000</td>\n",
       "      <td>2000</td>\n",
       "    </tr>\n",
       "    <tr>\n",
       "      <th>2 anos</th>\n",
       "      <td>40000</td>\n",
       "      <td>4000</td>\n",
       "    </tr>\n",
       "    <tr>\n",
       "      <th>3 anos</th>\n",
       "      <td>80000</td>\n",
       "      <td>3500</td>\n",
       "    </tr>\n",
       "    <tr>\n",
       "      <th>4 anos</th>\n",
       "      <td>50000</td>\n",
       "      <td>10000</td>\n",
       "    </tr>\n",
       "    <tr>\n",
       "      <th>5 anos</th>\n",
       "      <td>35000</td>\n",
       "      <td>8000</td>\n",
       "    </tr>\n",
       "    <tr>\n",
       "      <th>6 anos</th>\n",
       "      <td>25000</td>\n",
       "      <td>6000</td>\n",
       "    </tr>\n",
       "    <tr>\n",
       "      <th>7 anos</th>\n",
       "      <td>40000</td>\n",
       "      <td>9000</td>\n",
       "    </tr>\n",
       "    <tr>\n",
       "      <th>8 anos</th>\n",
       "      <td>30000</td>\n",
       "      <td>18000</td>\n",
       "    </tr>\n",
       "    <tr>\n",
       "      <th>9 anos</th>\n",
       "      <td>60000</td>\n",
       "      <td>20000</td>\n",
       "    </tr>\n",
       "    <tr>\n",
       "      <th>10 anos</th>\n",
       "      <td>45000</td>\n",
       "      <td>6000</td>\n",
       "    </tr>\n",
       "    <tr>\n",
       "      <th>11 anos</th>\n",
       "      <td>200000</td>\n",
       "      <td>100000</td>\n",
       "    </tr>\n",
       "    <tr>\n",
       "      <th>12 anos</th>\n",
       "      <td>30000</td>\n",
       "      <td>120000</td>\n",
       "    </tr>\n",
       "    <tr>\n",
       "      <th>13 anos</th>\n",
       "      <td>25000</td>\n",
       "      <td>20000</td>\n",
       "    </tr>\n",
       "    <tr>\n",
       "      <th>14 anos</th>\n",
       "      <td>50000</td>\n",
       "      <td>20000</td>\n",
       "    </tr>\n",
       "    <tr>\n",
       "      <th>15 anos ou mais</th>\n",
       "      <td>200000</td>\n",
       "      <td>100000</td>\n",
       "    </tr>\n",
       "    <tr>\n",
       "      <th>Não determinados</th>\n",
       "      <td>7000</td>\n",
       "      <td>3000</td>\n",
       "    </tr>\n",
       "  </tbody>\n",
       "</table>\n",
       "</div>"
      ],
      "text/plain": [
       "                                     max         \n",
       "Sexo                           Masculino Feminino\n",
       "Anos de Estudo                                   \n",
       "Sem instrução e menos de 1 ano     30000    10000\n",
       "1 ano                              30000     2000\n",
       "2 anos                             40000     4000\n",
       "3 anos                             80000     3500\n",
       "4 anos                             50000    10000\n",
       "5 anos                             35000     8000\n",
       "6 anos                             25000     6000\n",
       "7 anos                             40000     9000\n",
       "8 anos                             30000    18000\n",
       "9 anos                             60000    20000\n",
       "10 anos                            45000     6000\n",
       "11 anos                           200000   100000\n",
       "12 anos                            30000   120000\n",
       "13 anos                            25000    20000\n",
       "14 anos                            50000    20000\n",
       "15 anos ou mais                   200000   100000\n",
       "Não determinados                    7000     3000"
      ]
     },
     "execution_count": 161,
     "metadata": {},
     "output_type": "execute_result"
    }
   ],
   "source": [
    "df_estudo_sexo = pd.crosstab(\n",
    "    index = df_ibge['Anos de Estudo'],\n",
    "    columns = df_ibge.Sexo,\n",
    "    aggfunc = {'max'},\n",
    "    values = df_ibge.Renda\n",
    ")\n",
    "\n",
    "df_estudo_sexo.rename(sexo, axis = 1, inplace = True)\n",
    "df_estudo_sexo.rename(anos_de_estudo, axis = 0, inplace = True)\n",
    "\n",
    "df_estudo_sexo"
   ]
  },
  {
   "cell_type": "code",
   "execution_count": 162,
   "metadata": {},
   "outputs": [
    {
     "data": {
      "text/html": [
       "<div>\n",
       "<style scoped>\n",
       "    .dataframe tbody tr th:only-of-type {\n",
       "        vertical-align: middle;\n",
       "    }\n",
       "\n",
       "    .dataframe tbody tr th {\n",
       "        vertical-align: top;\n",
       "    }\n",
       "\n",
       "    .dataframe thead tr th {\n",
       "        text-align: left;\n",
       "    }\n",
       "\n",
       "    .dataframe thead tr:last-of-type th {\n",
       "        text-align: right;\n",
       "    }\n",
       "</style>\n",
       "<table border=\"1\" class=\"dataframe\">\n",
       "  <thead>\n",
       "    <tr>\n",
       "      <th></th>\n",
       "      <th colspan=\"2\" halign=\"left\">std</th>\n",
       "    </tr>\n",
       "    <tr>\n",
       "      <th>Sexo</th>\n",
       "      <th>Masculino</th>\n",
       "      <th>Feminino</th>\n",
       "    </tr>\n",
       "    <tr>\n",
       "      <th>Anos de Estudo</th>\n",
       "      <th></th>\n",
       "      <th></th>\n",
       "    </tr>\n",
       "  </thead>\n",
       "  <tbody>\n",
       "    <tr>\n",
       "      <th>Sem instrução e menos de 1 ano</th>\n",
       "      <td>1023.904884</td>\n",
       "      <td>639.311534</td>\n",
       "    </tr>\n",
       "    <tr>\n",
       "      <th>1 ano</th>\n",
       "      <td>1331.950552</td>\n",
       "      <td>425.291842</td>\n",
       "    </tr>\n",
       "    <tr>\n",
       "      <th>2 anos</th>\n",
       "      <td>1435.173827</td>\n",
       "      <td>498.234168</td>\n",
       "    </tr>\n",
       "    <tr>\n",
       "      <th>3 anos</th>\n",
       "      <td>2143.800133</td>\n",
       "      <td>424.124446</td>\n",
       "    </tr>\n",
       "    <tr>\n",
       "      <th>4 anos</th>\n",
       "      <td>1419.821787</td>\n",
       "      <td>629.553397</td>\n",
       "    </tr>\n",
       "    <tr>\n",
       "      <th>5 anos</th>\n",
       "      <td>1484.650587</td>\n",
       "      <td>635.782641</td>\n",
       "    </tr>\n",
       "    <tr>\n",
       "      <th>6 anos</th>\n",
       "      <td>1476.628602</td>\n",
       "      <td>574.547028</td>\n",
       "    </tr>\n",
       "    <tr>\n",
       "      <th>7 anos</th>\n",
       "      <td>1419.708673</td>\n",
       "      <td>602.038029</td>\n",
       "    </tr>\n",
       "    <tr>\n",
       "      <th>8 anos</th>\n",
       "      <td>1515.583715</td>\n",
       "      <td>896.781213</td>\n",
       "    </tr>\n",
       "    <tr>\n",
       "      <th>9 anos</th>\n",
       "      <td>2137.664774</td>\n",
       "      <td>973.221652</td>\n",
       "    </tr>\n",
       "    <tr>\n",
       "      <th>10 anos</th>\n",
       "      <td>2078.609734</td>\n",
       "      <td>620.611907</td>\n",
       "    </tr>\n",
       "    <tr>\n",
       "      <th>11 anos</th>\n",
       "      <td>2676.538942</td>\n",
       "      <td>1819.040417</td>\n",
       "    </tr>\n",
       "    <tr>\n",
       "      <th>12 anos</th>\n",
       "      <td>2268.081538</td>\n",
       "      <td>4851.833513</td>\n",
       "    </tr>\n",
       "    <tr>\n",
       "      <th>13 anos</th>\n",
       "      <td>2797.116800</td>\n",
       "      <td>2053.789771</td>\n",
       "    </tr>\n",
       "    <tr>\n",
       "      <th>14 anos</th>\n",
       "      <td>3987.214974</td>\n",
       "      <td>2064.083336</td>\n",
       "    </tr>\n",
       "    <tr>\n",
       "      <th>15 anos ou mais</th>\n",
       "      <td>7447.613594</td>\n",
       "      <td>4212.770709</td>\n",
       "    </tr>\n",
       "    <tr>\n",
       "      <th>Não determinados</th>\n",
       "      <td>979.648745</td>\n",
       "      <td>459.985964</td>\n",
       "    </tr>\n",
       "  </tbody>\n",
       "</table>\n",
       "</div>"
      ],
      "text/plain": [
       "                                        std             \n",
       "Sexo                              Masculino     Feminino\n",
       "Anos de Estudo                                          \n",
       "Sem instrução e menos de 1 ano  1023.904884   639.311534\n",
       "1 ano                           1331.950552   425.291842\n",
       "2 anos                          1435.173827   498.234168\n",
       "3 anos                          2143.800133   424.124446\n",
       "4 anos                          1419.821787   629.553397\n",
       "5 anos                          1484.650587   635.782641\n",
       "6 anos                          1476.628602   574.547028\n",
       "7 anos                          1419.708673   602.038029\n",
       "8 anos                          1515.583715   896.781213\n",
       "9 anos                          2137.664774   973.221652\n",
       "10 anos                         2078.609734   620.611907\n",
       "11 anos                         2676.538942  1819.040417\n",
       "12 anos                         2268.081538  4851.833513\n",
       "13 anos                         2797.116800  2053.789771\n",
       "14 anos                         3987.214974  2064.083336\n",
       "15 anos ou mais                 7447.613594  4212.770709\n",
       "Não determinados                 979.648745   459.985964"
      ]
     },
     "execution_count": 162,
     "metadata": {},
     "output_type": "execute_result"
    }
   ],
   "source": [
    "df_estudo_sexo = pd.crosstab(\n",
    "    index = df_ibge['Anos de Estudo'],\n",
    "    columns = df_ibge.Sexo,\n",
    "    aggfunc = {'std'},\n",
    "    values = df_ibge.Renda\n",
    ")\n",
    "\n",
    "df_estudo_sexo.rename(sexo, axis = 1, inplace = True)\n",
    "df_estudo_sexo.rename(anos_de_estudo, axis = 0, inplace = True)\n",
    "\n",
    "df_estudo_sexo"
   ]
  },
  {
   "cell_type": "markdown",
   "metadata": {
    "colab_type": "text",
    "id": "LrEECOmNTg2w"
   },
   "source": [
    "> ### Conclusões\n",
    "\n",
    "1- percebemos que quase 30% das pessoas que responderam a pesquisa ganham até 1 salário mínimo (R$788.00).\n",
    "\n",
    "2- a renda máxima das pessoas até 99% dos nossos dados é de R$15000.\n",
    "\n",
    "3- a média salarial, mediana salarial e o salário máximo dos homens é sempre maior do que a das mulheres, mesmo que ambos tenham estudados a mesma quantidade de tempo.\n",
    "\n",
    "4- um homem com menos anos de estudo que uma mulher ou ganha mais que ela ou algo muito próximo a uma mulher com mais anos de estudo, por exemplo um homem com 3 anos de estudo tem uma média salarial de 1109, já uma mulher com 11 anos de estudo ganha em média 1286, a diferença nos anos de estudo é gritante, mas o salário não.\n",
    "\n",
    "5- a dispersão na renda das mulheres é bem menor em relação a dos homens."
   ]
  },
  {
   "cell_type": "markdown",
   "metadata": {
    "colab_type": "text",
    "id": "0fIFSxj8Tg2x"
   },
   "source": [
    "### Obtenha a média, mediana, valor máximo e desvio-padrão da variável RENDA segundo as UNIDADES DA FEDERAÇÃO\n",
    "#### <font color='blue'>Destaque os pontos mais importante que você observa nas tabulações</font>\n",
    "#### <font color='red'>Utilize o método <i>groupby()</i> do <i>pandas</i> juntamente com o método <i>agg()</i> para contruir a tabulação. O método <i>agg()</i> pode receber um dicionário especificando qual coluna do DataFrame deve ser utilizada e qual lista de funções estatísticas queremos obter, por exemplo: <i>dados.groupby(['UF']).agg({'Renda': ['mean', 'median', 'max', 'std']})</i></font>"
   ]
  },
  {
   "cell_type": "code",
   "execution_count": 169,
   "metadata": {
    "colab": {},
    "colab_type": "code",
    "id": "91IxQFJoTg2x"
   },
   "outputs": [
    {
     "data": {
      "text/html": [
       "<div>\n",
       "<style scoped>\n",
       "    .dataframe tbody tr th:only-of-type {\n",
       "        vertical-align: middle;\n",
       "    }\n",
       "\n",
       "    .dataframe tbody tr th {\n",
       "        vertical-align: top;\n",
       "    }\n",
       "\n",
       "    .dataframe thead tr th {\n",
       "        text-align: left;\n",
       "    }\n",
       "\n",
       "    .dataframe thead tr:last-of-type th {\n",
       "        text-align: right;\n",
       "    }\n",
       "</style>\n",
       "<table border=\"1\" class=\"dataframe\">\n",
       "  <thead>\n",
       "    <tr>\n",
       "      <th></th>\n",
       "      <th colspan=\"4\" halign=\"left\">Renda</th>\n",
       "    </tr>\n",
       "    <tr>\n",
       "      <th></th>\n",
       "      <th>mean</th>\n",
       "      <th>median</th>\n",
       "      <th>max</th>\n",
       "      <th>std</th>\n",
       "    </tr>\n",
       "    <tr>\n",
       "      <th>UF</th>\n",
       "      <th></th>\n",
       "      <th></th>\n",
       "      <th></th>\n",
       "      <th></th>\n",
       "    </tr>\n",
       "  </thead>\n",
       "  <tbody>\n",
       "    <tr>\n",
       "      <th>Rondônia</th>\n",
       "      <td>1789.761223</td>\n",
       "      <td>1200.0</td>\n",
       "      <td>50000</td>\n",
       "      <td>2406.161161</td>\n",
       "    </tr>\n",
       "    <tr>\n",
       "      <th>Acre</th>\n",
       "      <td>1506.091782</td>\n",
       "      <td>900.0</td>\n",
       "      <td>30000</td>\n",
       "      <td>2276.233415</td>\n",
       "    </tr>\n",
       "    <tr>\n",
       "      <th>Amazonas</th>\n",
       "      <td>1445.130100</td>\n",
       "      <td>900.0</td>\n",
       "      <td>22000</td>\n",
       "      <td>1757.935591</td>\n",
       "    </tr>\n",
       "    <tr>\n",
       "      <th>Roraima</th>\n",
       "      <td>1783.588889</td>\n",
       "      <td>1000.0</td>\n",
       "      <td>20000</td>\n",
       "      <td>2079.659238</td>\n",
       "    </tr>\n",
       "    <tr>\n",
       "      <th>Pará</th>\n",
       "      <td>1399.076871</td>\n",
       "      <td>850.0</td>\n",
       "      <td>50000</td>\n",
       "      <td>2053.779555</td>\n",
       "    </tr>\n",
       "    <tr>\n",
       "      <th>Amapá</th>\n",
       "      <td>1861.353516</td>\n",
       "      <td>1200.0</td>\n",
       "      <td>15580</td>\n",
       "      <td>2020.688632</td>\n",
       "    </tr>\n",
       "    <tr>\n",
       "      <th>Tocantins</th>\n",
       "      <td>1771.094946</td>\n",
       "      <td>1000.0</td>\n",
       "      <td>60000</td>\n",
       "      <td>2934.590741</td>\n",
       "    </tr>\n",
       "    <tr>\n",
       "      <th>Maranhão</th>\n",
       "      <td>1019.432009</td>\n",
       "      <td>700.0</td>\n",
       "      <td>30000</td>\n",
       "      <td>1887.816905</td>\n",
       "    </tr>\n",
       "    <tr>\n",
       "      <th>Piauí</th>\n",
       "      <td>1074.550784</td>\n",
       "      <td>750.0</td>\n",
       "      <td>40000</td>\n",
       "      <td>2373.355726</td>\n",
       "    </tr>\n",
       "    <tr>\n",
       "      <th>Ceará</th>\n",
       "      <td>1255.403692</td>\n",
       "      <td>789.0</td>\n",
       "      <td>25000</td>\n",
       "      <td>1821.963536</td>\n",
       "    </tr>\n",
       "    <tr>\n",
       "      <th>Rio Grande do Norte</th>\n",
       "      <td>1344.721480</td>\n",
       "      <td>800.0</td>\n",
       "      <td>15500</td>\n",
       "      <td>1651.805500</td>\n",
       "    </tr>\n",
       "    <tr>\n",
       "      <th>Paraíba</th>\n",
       "      <td>1293.370487</td>\n",
       "      <td>788.0</td>\n",
       "      <td>30000</td>\n",
       "      <td>1950.272431</td>\n",
       "    </tr>\n",
       "    <tr>\n",
       "      <th>Pernambuco</th>\n",
       "      <td>1527.079319</td>\n",
       "      <td>900.0</td>\n",
       "      <td>50000</td>\n",
       "      <td>2389.622497</td>\n",
       "    </tr>\n",
       "    <tr>\n",
       "      <th>Alagoas</th>\n",
       "      <td>1144.552602</td>\n",
       "      <td>788.0</td>\n",
       "      <td>11000</td>\n",
       "      <td>1237.856197</td>\n",
       "    </tr>\n",
       "    <tr>\n",
       "      <th>Sergipe</th>\n",
       "      <td>1109.111111</td>\n",
       "      <td>788.0</td>\n",
       "      <td>16000</td>\n",
       "      <td>1478.997878</td>\n",
       "    </tr>\n",
       "    <tr>\n",
       "      <th>Bahia</th>\n",
       "      <td>1429.645094</td>\n",
       "      <td>800.0</td>\n",
       "      <td>200000</td>\n",
       "      <td>3507.917248</td>\n",
       "    </tr>\n",
       "    <tr>\n",
       "      <th>Minas Gerais</th>\n",
       "      <td>2056.432084</td>\n",
       "      <td>1200.0</td>\n",
       "      <td>100000</td>\n",
       "      <td>3584.721547</td>\n",
       "    </tr>\n",
       "    <tr>\n",
       "      <th>Espírito Santo</th>\n",
       "      <td>2026.383852</td>\n",
       "      <td>1274.0</td>\n",
       "      <td>100000</td>\n",
       "      <td>3513.846868</td>\n",
       "    </tr>\n",
       "    <tr>\n",
       "      <th>Rio de Janeiro</th>\n",
       "      <td>2496.403168</td>\n",
       "      <td>1400.0</td>\n",
       "      <td>200000</td>\n",
       "      <td>5214.583518</td>\n",
       "    </tr>\n",
       "    <tr>\n",
       "      <th>São Paulo</th>\n",
       "      <td>2638.104986</td>\n",
       "      <td>1600.0</td>\n",
       "      <td>80000</td>\n",
       "      <td>3503.777366</td>\n",
       "    </tr>\n",
       "    <tr>\n",
       "      <th>Paraná</th>\n",
       "      <td>2493.870753</td>\n",
       "      <td>1500.0</td>\n",
       "      <td>200000</td>\n",
       "      <td>4302.937995</td>\n",
       "    </tr>\n",
       "    <tr>\n",
       "      <th>Santa Catarina</th>\n",
       "      <td>2470.854945</td>\n",
       "      <td>1800.0</td>\n",
       "      <td>80000</td>\n",
       "      <td>3137.651112</td>\n",
       "    </tr>\n",
       "    <tr>\n",
       "      <th>Rio Grande do Sul</th>\n",
       "      <td>2315.158336</td>\n",
       "      <td>1500.0</td>\n",
       "      <td>35000</td>\n",
       "      <td>2913.335783</td>\n",
       "    </tr>\n",
       "    <tr>\n",
       "      <th>Mato Grosso do Sul</th>\n",
       "      <td>2262.604167</td>\n",
       "      <td>1500.0</td>\n",
       "      <td>42000</td>\n",
       "      <td>3031.419122</td>\n",
       "    </tr>\n",
       "    <tr>\n",
       "      <th>Mato Grosso</th>\n",
       "      <td>2130.652778</td>\n",
       "      <td>1500.0</td>\n",
       "      <td>35000</td>\n",
       "      <td>2542.630178</td>\n",
       "    </tr>\n",
       "    <tr>\n",
       "      <th>Goiás</th>\n",
       "      <td>1994.580794</td>\n",
       "      <td>1500.0</td>\n",
       "      <td>30000</td>\n",
       "      <td>2221.933065</td>\n",
       "    </tr>\n",
       "    <tr>\n",
       "      <th>Distrito Federal</th>\n",
       "      <td>4241.954722</td>\n",
       "      <td>2000.0</td>\n",
       "      <td>100000</td>\n",
       "      <td>5550.463338</td>\n",
       "    </tr>\n",
       "  </tbody>\n",
       "</table>\n",
       "</div>"
      ],
      "text/plain": [
       "                           Renda                             \n",
       "                            mean  median     max          std\n",
       "UF                                                           \n",
       "Rondônia             1789.761223  1200.0   50000  2406.161161\n",
       "Acre                 1506.091782   900.0   30000  2276.233415\n",
       "Amazonas             1445.130100   900.0   22000  1757.935591\n",
       "Roraima              1783.588889  1000.0   20000  2079.659238\n",
       "Pará                 1399.076871   850.0   50000  2053.779555\n",
       "Amapá                1861.353516  1200.0   15580  2020.688632\n",
       "Tocantins            1771.094946  1000.0   60000  2934.590741\n",
       "Maranhão             1019.432009   700.0   30000  1887.816905\n",
       "Piauí                1074.550784   750.0   40000  2373.355726\n",
       "Ceará                1255.403692   789.0   25000  1821.963536\n",
       "Rio Grande do Norte  1344.721480   800.0   15500  1651.805500\n",
       "Paraíba              1293.370487   788.0   30000  1950.272431\n",
       "Pernambuco           1527.079319   900.0   50000  2389.622497\n",
       "Alagoas              1144.552602   788.0   11000  1237.856197\n",
       "Sergipe              1109.111111   788.0   16000  1478.997878\n",
       "Bahia                1429.645094   800.0  200000  3507.917248\n",
       "Minas Gerais         2056.432084  1200.0  100000  3584.721547\n",
       "Espírito Santo       2026.383852  1274.0  100000  3513.846868\n",
       "Rio de Janeiro       2496.403168  1400.0  200000  5214.583518\n",
       "São Paulo            2638.104986  1600.0   80000  3503.777366\n",
       "Paraná               2493.870753  1500.0  200000  4302.937995\n",
       "Santa Catarina       2470.854945  1800.0   80000  3137.651112\n",
       "Rio Grande do Sul    2315.158336  1500.0   35000  2913.335783\n",
       "Mato Grosso do Sul   2262.604167  1500.0   42000  3031.419122\n",
       "Mato Grosso          2130.652778  1500.0   35000  2542.630178\n",
       "Goiás                1994.580794  1500.0   30000  2221.933065\n",
       "Distrito Federal     4241.954722  2000.0  100000  5550.463338"
      ]
     },
     "execution_count": 169,
     "metadata": {},
     "output_type": "execute_result"
    }
   ],
   "source": [
    "df_renda_uf = df_ibge.groupby(['UF']).agg({'Renda': ['mean', 'median', 'max', 'std']})\n",
    "\n",
    "df_renda_uf.rename(uf, axis = 0, inplace = True)\n",
    "df_renda_uf"
   ]
  },
  {
   "cell_type": "code",
   "execution_count": 172,
   "metadata": {},
   "outputs": [
    {
     "data": {
      "text/html": [
       "<div>\n",
       "<style scoped>\n",
       "    .dataframe tbody tr th:only-of-type {\n",
       "        vertical-align: middle;\n",
       "    }\n",
       "\n",
       "    .dataframe tbody tr th {\n",
       "        vertical-align: top;\n",
       "    }\n",
       "\n",
       "    .dataframe thead tr th {\n",
       "        text-align: left;\n",
       "    }\n",
       "\n",
       "    .dataframe thead tr:last-of-type th {\n",
       "        text-align: right;\n",
       "    }\n",
       "</style>\n",
       "<table border=\"1\" class=\"dataframe\">\n",
       "  <thead>\n",
       "    <tr>\n",
       "      <th></th>\n",
       "      <th colspan=\"3\" halign=\"left\">Anos de Estudo</th>\n",
       "    </tr>\n",
       "    <tr>\n",
       "      <th></th>\n",
       "      <th>mean</th>\n",
       "      <th>median</th>\n",
       "      <th>std</th>\n",
       "    </tr>\n",
       "    <tr>\n",
       "      <th>UF</th>\n",
       "      <th></th>\n",
       "      <th></th>\n",
       "      <th></th>\n",
       "    </tr>\n",
       "  </thead>\n",
       "  <tbody>\n",
       "    <tr>\n",
       "      <th>Rondônia</th>\n",
       "      <td>8.811971</td>\n",
       "      <td>9.0</td>\n",
       "      <td>4.522992</td>\n",
       "    </tr>\n",
       "    <tr>\n",
       "      <th>Acre</th>\n",
       "      <td>8.398079</td>\n",
       "      <td>9.0</td>\n",
       "      <td>5.104309</td>\n",
       "    </tr>\n",
       "    <tr>\n",
       "      <th>Amazonas</th>\n",
       "      <td>9.361741</td>\n",
       "      <td>11.0</td>\n",
       "      <td>4.517506</td>\n",
       "    </tr>\n",
       "    <tr>\n",
       "      <th>Roraima</th>\n",
       "      <td>9.916667</td>\n",
       "      <td>12.0</td>\n",
       "      <td>4.724163</td>\n",
       "    </tr>\n",
       "    <tr>\n",
       "      <th>Pará</th>\n",
       "      <td>8.672286</td>\n",
       "      <td>9.0</td>\n",
       "      <td>4.423871</td>\n",
       "    </tr>\n",
       "    <tr>\n",
       "      <th>Amapá</th>\n",
       "      <td>10.050781</td>\n",
       "      <td>12.0</td>\n",
       "      <td>4.340831</td>\n",
       "    </tr>\n",
       "    <tr>\n",
       "      <th>Tocantins</th>\n",
       "      <td>9.027565</td>\n",
       "      <td>9.0</td>\n",
       "      <td>4.714452</td>\n",
       "    </tr>\n",
       "    <tr>\n",
       "      <th>Maranhão</th>\n",
       "      <td>7.518747</td>\n",
       "      <td>8.0</td>\n",
       "      <td>4.799690</td>\n",
       "    </tr>\n",
       "    <tr>\n",
       "      <th>Piauí</th>\n",
       "      <td>7.014038</td>\n",
       "      <td>6.0</td>\n",
       "      <td>4.852771</td>\n",
       "    </tr>\n",
       "    <tr>\n",
       "      <th>Ceará</th>\n",
       "      <td>8.665079</td>\n",
       "      <td>9.0</td>\n",
       "      <td>4.639160</td>\n",
       "    </tr>\n",
       "    <tr>\n",
       "      <th>Rio Grande do Norte</th>\n",
       "      <td>8.823227</td>\n",
       "      <td>9.0</td>\n",
       "      <td>4.720544</td>\n",
       "    </tr>\n",
       "    <tr>\n",
       "      <th>Paraíba</th>\n",
       "      <td>8.165620</td>\n",
       "      <td>9.0</td>\n",
       "      <td>5.106413</td>\n",
       "    </tr>\n",
       "    <tr>\n",
       "      <th>Pernambuco</th>\n",
       "      <td>9.214921</td>\n",
       "      <td>10.0</td>\n",
       "      <td>4.653215</td>\n",
       "    </tr>\n",
       "    <tr>\n",
       "      <th>Alagoas</th>\n",
       "      <td>7.838317</td>\n",
       "      <td>8.0</td>\n",
       "      <td>4.805807</td>\n",
       "    </tr>\n",
       "    <tr>\n",
       "      <th>Sergipe</th>\n",
       "      <td>7.337995</td>\n",
       "      <td>7.0</td>\n",
       "      <td>4.728555</td>\n",
       "    </tr>\n",
       "    <tr>\n",
       "      <th>Bahia</th>\n",
       "      <td>8.725730</td>\n",
       "      <td>9.0</td>\n",
       "      <td>4.659166</td>\n",
       "    </tr>\n",
       "    <tr>\n",
       "      <th>Minas Gerais</th>\n",
       "      <td>9.129846</td>\n",
       "      <td>9.0</td>\n",
       "      <td>4.446171</td>\n",
       "    </tr>\n",
       "    <tr>\n",
       "      <th>Espírito Santo</th>\n",
       "      <td>9.466578</td>\n",
       "      <td>10.0</td>\n",
       "      <td>4.441083</td>\n",
       "    </tr>\n",
       "    <tr>\n",
       "      <th>Rio de Janeiro</th>\n",
       "      <td>10.547516</td>\n",
       "      <td>12.0</td>\n",
       "      <td>4.110588</td>\n",
       "    </tr>\n",
       "    <tr>\n",
       "      <th>São Paulo</th>\n",
       "      <td>10.639045</td>\n",
       "      <td>12.0</td>\n",
       "      <td>4.134274</td>\n",
       "    </tr>\n",
       "    <tr>\n",
       "      <th>Paraná</th>\n",
       "      <td>10.084252</td>\n",
       "      <td>12.0</td>\n",
       "      <td>4.383092</td>\n",
       "    </tr>\n",
       "    <tr>\n",
       "      <th>Santa Catarina</th>\n",
       "      <td>10.226813</td>\n",
       "      <td>12.0</td>\n",
       "      <td>4.123477</td>\n",
       "    </tr>\n",
       "    <tr>\n",
       "      <th>Rio Grande do Sul</th>\n",
       "      <td>10.104556</td>\n",
       "      <td>11.0</td>\n",
       "      <td>4.203717</td>\n",
       "    </tr>\n",
       "    <tr>\n",
       "      <th>Mato Grosso do Sul</th>\n",
       "      <td>9.509028</td>\n",
       "      <td>10.0</td>\n",
       "      <td>4.501400</td>\n",
       "    </tr>\n",
       "    <tr>\n",
       "      <th>Mato Grosso</th>\n",
       "      <td>9.472778</td>\n",
       "      <td>10.0</td>\n",
       "      <td>4.445624</td>\n",
       "    </tr>\n",
       "    <tr>\n",
       "      <th>Goiás</th>\n",
       "      <td>9.435883</td>\n",
       "      <td>10.0</td>\n",
       "      <td>4.290675</td>\n",
       "    </tr>\n",
       "    <tr>\n",
       "      <th>Distrito Federal</th>\n",
       "      <td>11.910419</td>\n",
       "      <td>12.0</td>\n",
       "      <td>4.148458</td>\n",
       "    </tr>\n",
       "  </tbody>\n",
       "</table>\n",
       "</div>"
      ],
      "text/plain": [
       "                    Anos de Estudo                 \n",
       "                              mean median       std\n",
       "UF                                                 \n",
       "Rondônia                  8.811971    9.0  4.522992\n",
       "Acre                      8.398079    9.0  5.104309\n",
       "Amazonas                  9.361741   11.0  4.517506\n",
       "Roraima                   9.916667   12.0  4.724163\n",
       "Pará                      8.672286    9.0  4.423871\n",
       "Amapá                    10.050781   12.0  4.340831\n",
       "Tocantins                 9.027565    9.0  4.714452\n",
       "Maranhão                  7.518747    8.0  4.799690\n",
       "Piauí                     7.014038    6.0  4.852771\n",
       "Ceará                     8.665079    9.0  4.639160\n",
       "Rio Grande do Norte       8.823227    9.0  4.720544\n",
       "Paraíba                   8.165620    9.0  5.106413\n",
       "Pernambuco                9.214921   10.0  4.653215\n",
       "Alagoas                   7.838317    8.0  4.805807\n",
       "Sergipe                   7.337995    7.0  4.728555\n",
       "Bahia                     8.725730    9.0  4.659166\n",
       "Minas Gerais              9.129846    9.0  4.446171\n",
       "Espírito Santo            9.466578   10.0  4.441083\n",
       "Rio de Janeiro           10.547516   12.0  4.110588\n",
       "São Paulo                10.639045   12.0  4.134274\n",
       "Paraná                   10.084252   12.0  4.383092\n",
       "Santa Catarina           10.226813   12.0  4.123477\n",
       "Rio Grande do Sul        10.104556   11.0  4.203717\n",
       "Mato Grosso do Sul        9.509028   10.0  4.501400\n",
       "Mato Grosso               9.472778   10.0  4.445624\n",
       "Goiás                     9.435883   10.0  4.290675\n",
       "Distrito Federal         11.910419   12.0  4.148458"
      ]
     },
     "execution_count": 172,
     "metadata": {},
     "output_type": "execute_result"
    }
   ],
   "source": [
    "df_renda_uf = df_ibge.groupby(['UF']).agg({'Anos de Estudo': ['mean', 'median', 'std']})\n",
    "\n",
    "df_renda_uf.rename(uf, axis = 0, inplace = True)\n",
    "df_renda_uf"
   ]
  },
  {
   "cell_type": "markdown",
   "metadata": {
    "colab_type": "text",
    "id": "6NfAKimkTg2y"
   },
   "source": [
    "### Construa um box plot da variável RENDA segundo as UNIDADES DA FEDERAÇÃO\n",
    "#### <font color='blue'>É possível verificar algum comportamento diferenciado no rendimento entre os grupos analisados? Avalie o gráfico e destaque os pontos mais importantes.</font>\n",
    "#### <font color='red'>1º - Utilize somente as informações de pessoas com renda abaixo de R$ 10.000</font>"
   ]
  },
  {
   "cell_type": "code",
   "execution_count": 185,
   "metadata": {
    "colab": {},
    "colab_type": "code",
    "id": "XdEGG3blTg2z"
   },
   "outputs": [
    {
     "name": "stderr",
     "output_type": "stream",
     "text": [
      "/tmp/ipykernel_63763/4224528147.py:10: UserWarning: set_ticklabels() should only be used with a fixed number of ticks, i.e. after set_ticks() or using a FixedLocator.\n",
      "  ax.set_yticklabels([key for key in uf.values()], fontsize=12)      # Configurando o label de cada categoria do eixo Y\n"
     ]
    },
    {
     "data": {
      "text/plain": [
       "<Axes: title={'center': 'Box-plot da RENDA por UF'}, xlabel='R$', ylabel='Estados'>"
      ]
     },
     "execution_count": 185,
     "metadata": {},
     "output_type": "execute_result"
    },
    {
     "data": {
      "image/png": "[encoded data removed]",
      "text/plain": [
       "<Figure size 1400x800 with 1 Axes>"
      ]
     },
     "metadata": {},
     "output_type": "display_data"
    }
   ],
   "source": [
    "ax = sns.boxplot(x = 'Renda', y = 'UF', data=df_ibge.query('Renda < 10000'), orient='h')\n",
    "\n",
    "ax.figure.set_size_inches(14, 8)    # Personalizando o tamanho da figura\n",
    "\n",
    "ax.set_title('Box-plot da RENDA por UF', fontsize=18)    # Configurando o título do gráfico\n",
    "\n",
    "ax.set_xlabel('R$', fontsize=14)    # Configurando o label do eixo X\n",
    "\n",
    "ax.set_ylabel('Estados', fontsize=14)    # Configurando o label do eixo Y\n",
    "ax.set_yticklabels([key for key in uf.values()], fontsize=12)      # Configurando o label de cada categoria do eixo Y\n",
    "\n",
    "ax"
   ]
  },
  {
   "cell_type": "markdown",
   "metadata": {
    "colab_type": "text",
    "id": "7ssOt3MRTg22"
   },
   "source": [
    "> ### Conclusões\n",
    "\n",
    "1- Estados do Sul e Sudeste tem os maiores salários, perdendo apenas para o Distrito Federal.\n",
    "\n",
    "2- Já o Norte e o Nordeste tem os menores salários. \n",
    "\n",
    "3- O Distrito Federal tem o maior salário e o maior tempo de estudo, lembrando que no Distrito Federal é onde se encontra a maioria dos políticos.\n",
    "\n",
    "4- O Sul e Sudeste estudam por mais tempo que o Norte e o Nordeste, mas é importante lembrar que o acesso a educação no Norte é muito mais difícil do que no Sul e Sudeste, e o investimento no Sul e Sudeste é muito maior do que no Nordeste e Norte."
   ]
  }
 ],
 "metadata": {
  "colab": {
   "name": "Análise_Descritiva.ipynb",
   "provenance": [],
   "toc_visible": true,
   "version": "0.3.2"
  },
  "kernelspec": {
   "display_name": "meu_ambiente",
   "language": "python",
   "name": "meu_ambiente"
  },
  "language_info": {
   "codemirror_mode": {
    "name": "ipython",
    "version": 3
   },
   "file_extension": ".py",
   "mimetype": "text/x-python",
   "name": "python",
   "nbconvert_exporter": "python",
   "pygments_lexer": "ipython3",
   "version": "3.12.3"
  }
 },
 "nbformat": 4,
 "nbformat_minor": 1
}
